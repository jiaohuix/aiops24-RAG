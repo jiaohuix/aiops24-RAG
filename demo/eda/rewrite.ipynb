{
 "cells": [
  {
   "cell_type": "markdown",
   "metadata": {},
   "source": [
    "# query重写demo\n",
    "\n",
    "在data下面每个类别的文档中，都有log.txt的术语词，现在需要根据术语词，用llm按照论文的格式重写query，例如：\n",
    "\n",
    "EPS回落流程中，PCF向SBC上报几次用户位置吗？\n",
    "\n",
    "=>\n",
    "\n",
    "演进的分组系统 ( Evolved Packet System , EPS ) 回落流程中，策略控制功能 ( Policy Control Function, PCF ) 向 会话边界控制器 ( Session Border Controller, SBC ) 上报几次用户位置吗？\n",
    "\n",
    "\n"
   ]
  },
  {
   "cell_type": "code",
   "execution_count": 1,
   "metadata": {},
   "outputs": [],
   "source": [
    "# 思路：\n",
    "# 1 把log.txt按照行构建bm25的检索器\n",
    "# 2 对于query进行检索，找到相关的关键词\n",
    "# 3 设置prompt，让模型重写组织问题\n",
    "# 4 将新的问题输入main，得到新的回答\n",
    "# 5 （可选） 将两个query对应的答案进行集成。"
   ]
  },
  {
   "cell_type": "code",
   "execution_count": 1,
   "metadata": {},
   "outputs": [
    {
     "name": "stdout",
     "output_type": "stream",
     "text": [
      "/home/jhx/Projects/RAG/aiops24-RAG-demo/demo\n"
     ]
    },
    {
     "name": "stderr",
     "output_type": "stream",
     "text": [
      "/home/jhx/anaconda3/envs/aiops/lib/python3.10/site-packages/IPython/core/magics/osm.py:417: UserWarning: This is now an optional IPython functionality, setting dhist requires you to install the `pickleshare` library.\n",
      "  self.shell.db['dhist'] = compress_dhist(dhist)[-100:]\n"
     ]
    }
   ],
   "source": [
    "%cd /home/jhx/Projects/RAG/aiops24-RAG-demo/demo"
   ]
  },
  {
   "cell_type": "code",
   "execution_count": 99,
   "metadata": {},
   "outputs": [],
   "source": [
    "import re\n",
    "from tqdm import tqdm"
   ]
  },
  {
   "cell_type": "markdown",
   "metadata": {},
   "source": [
    "## 1 单个query"
   ]
  },
  {
   "cell_type": "markdown",
   "metadata": {},
   "source": [
    "### 1.1 整理术语"
   ]
  },
  {
   "cell_type": "code",
   "execution_count": 44,
   "metadata": {},
   "outputs": [
    {
     "name": "stdout",
     "output_type": "stream",
     "text": [
      "3rd Generation Partnership Project第三代合作伙伴计划: False\n",
      "3GPP: True\n",
      "5G System5G系统: False\n",
      "5G-GUTI: True\n",
      " : False\n",
      " \n",
      ": False\n"
     ]
    }
   ],
   "source": [
    "def is_english_abbreviation(text):\n",
    "    # 定义正则表达式，匹配只包含英文字母和数字的文本\n",
    "    # pattern = r'^[a-zA-Z0-9]+$'\n",
    "    pattern = r'^[a-zA-Z0-9-]+$'\n",
    "\n",
    "    # 使用re.match()函数尝试匹配文本\n",
    "    if re.match(pattern, text):\n",
    "        # 如果匹配成功，检查是否包含汉字\n",
    "        if not any('\\u4e00' <= char <= '\\u9fff' for char in text):\n",
    "            return True\n",
    "    return False\n",
    "\n",
    "def print_is_abbreviation(text):\n",
    "    print(f\"{text}: {is_english_abbreviation(text)}\")\n",
    "\n",
    "print_is_abbreviation(\"3rd Generation Partnership Project第三代合作伙伴计划\")\n",
    "print_is_abbreviation(\"3GPP\")\n",
    "print_is_abbreviation(\"5G System5G系统\")\n",
    "print_is_abbreviation(\"5G-GUTI\")\n",
    "print_is_abbreviation(\" \")\n",
    "print_is_abbreviation(\" \\n\")\n",
    "\n"
   ]
  },
  {
   "cell_type": "code",
   "execution_count": 45,
   "metadata": {},
   "outputs": [],
   "source": [
    "# 1 获取log.txt，变成文本列表\n",
    "def read_terminology_file(file_path, sep = \"|\"):\n",
    "    terminology_list = []\n",
    "    \n",
    "    with open(file_path, 'r', encoding='utf-8') as file:\n",
    "        lines = file.readlines()\n",
    "        i = 0\n",
    "        last_abbrev = None\n",
    "        \n",
    "        while i < len(lines):\n",
    "            if lines[i].strip():  # Check if line is not empty\n",
    "                acronym = lines[i].strip()\n",
    "                i += 1\n",
    "\n",
    "                if acronym.find(\"缩略语\") != -1: continue\n",
    "                if i < len(lines):\n",
    "                    english_full = lines[i].strip()\n",
    "                    i += 1\n",
    "                    if i < len(lines):\n",
    "                        chinese_full = lines[i].strip()\n",
    "                        terminology_list.append(f\"{acronym} {sep} {english_full} {chinese_full}\")\n",
    "                        i += 1\n",
    "                    else:\n",
    "                        # If there are no more lines after chinese_full, break the loop\n",
    "                        break\n",
    "                else:\n",
    "                    # If there are no more lines after english_full, break the loop\n",
    "                    break\n",
    "            else:\n",
    "                i += 1  # Move to the next line\n",
    "    \n",
    "    return terminology_list\n"
   ]
  },
  {
   "cell_type": "code",
   "execution_count": 48,
   "metadata": {},
   "outputs": [],
   "source": [
    "# 1 获取log.txt，变成文本列表\n",
    "# 非空，且 是缩写，记录last。然后如果不是缩写，就保存term\n",
    "def read_terminology_file(file_path, sep = \"|\"):\n",
    "    terminology_list = []\n",
    "    last_abbrev = None\n",
    "\n",
    "    with open(file_path, 'r', encoding='utf-8') as file:\n",
    "        lines = file.readlines()\n",
    "    for line in lines:\n",
    "        if (line.find(\"缩略语\") != -1) or (not line.strip()): continue\n",
    "\n",
    "        acronym = line.strip()\n",
    "        if is_english_abbreviation(acronym):\n",
    "            last_abbrev = acronym\n",
    "            continue\n",
    "        else:\n",
    "            term = f\"{last_abbrev} {sep} {acronym}\"\n",
    "            terminology_list.append(term)\n",
    "    \n",
    "    return terminology_list\n"
   ]
  },
  {
   "cell_type": "code",
   "execution_count": 49,
   "metadata": {},
   "outputs": [
    {
     "data": {
      "text/plain": [
       "{'3GPP': '3GPP | 3rd Generation Partnership Project第三代合作伙伴计划',\n",
       " '3GPP2': '3GPP2 | 3rd Generation Partnership Project 23G协作组2',\n",
       " '4A': '4A | Account, Authorization, Authentication, Audit认证、账号、授权、审计',\n",
       " '5G-GUTI': '5G-GUTI | 5G Globally Unique Temporary Identity5G全球唯一临时标识',\n",
       " '5GC': '5GC | 5G Core Network5G核心网',\n",
       " '5GS': '5GS | 5G System5G系统',\n",
       " '5QI': '5QI | 5G QoS Identifier5G QoS标识',\n",
       " 'AAA': 'AAA | Authentication, Authorization and Accounting鉴权、授权及计费',\n",
       " 'AAR': 'AAR | Auth-Application Request鉴权应用请求',\n",
       " 'ACL': 'ACL | Access Control List访问控制列表',\n",
       " 'ACR': 'ACR | Accounting Request计费请求',\n",
       " 'ADC': 'ADC | Application Detection and Control应用检测控制',\n",
       " 'ADMC': 'ADMC | Auto Detected Manually Cleared自动产生人工清除',\n",
       " 'AES': 'AES | Advanced Encryption Standard高级加密标准',\n",
       " 'AF': 'AF | Application Function应用功能',\n",
       " 'AIA': 'AIA | Authentication-Information-Answer鉴权信息检索响应',\n",
       " 'AIC': 'AIC | Automatic Integration Center自动化集成中心',\n",
       " 'AIR': 'AIR | Authentication-Information-Request鉴权信息检索请求',\n",
       " 'AKA': 'AKA | Authentication and Key Agreement鉴权和密钥协商',\n",
       " 'AM': 'AM | Access and Mobility Management接入移动管理',\n",
       " 'AMBR': 'AMBR | Aggregate Maximum Bit Rate聚合最大比特率',\n",
       " 'AMF': 'AMF | Access and Mobility Management Function接入和移动管理功能',\n",
       " 'AMU': 'AMU | Arbitration Management Unit仲裁管理单元',\n",
       " 'AN': 'AN | Access Network接入网',\n",
       " 'ANDSP': 'ANDSP | Access Network Discovery & Selection Policy接入网发现和选择策略',\n",
       " 'ANM': 'ANM | Answer Message应答消息',\n",
       " 'API': 'API | Access Point Identifier接入点标识',\n",
       " 'APN': 'APN | Access Point Network接入点网络',\n",
       " 'APP': 'APP | Application应用',\n",
       " 'AR': 'AR | Augmented Reality增强现实',\n",
       " 'ARP': 'ARP | Address Resolution Protocol地址解析协议',\n",
       " 'AS': 'AS | Application Server应用服务器',\n",
       " 'ASA': 'ASA | Abort-Session-Answer中断会话响应',\n",
       " 'ASR': 'ASR | Abort-Session-Request中断会话请求',\n",
       " 'ATCF': 'ATCF | Access Transfer Control Function接入转换控制功能',\n",
       " 'ATGW': 'ATGW | Access Transfer Gateway接入转换网关',\n",
       " 'AUSF': 'AUSF | Authentication Server Function鉴权服务器功能',\n",
       " 'AUTN': 'AUTN | Authentication Token鉴权令牌',\n",
       " 'AVP': 'AVP | Browser/Server浏览器和服务器结构',\n",
       " 'BAR': 'BAR | Buffer Action Rule报文缓存规则',\n",
       " 'BBERF': 'BBERF | Bearer Binding and Event Reporting Function承载绑定和事件上报功能',\n",
       " 'BDR': 'BDR | Backup Designate Router备用指定路由器',\n",
       " 'BE': 'BE | Back End后端/后台',\n",
       " 'BFD': 'BFD | Bidirectional Forwarding Detection双向转发检测',\n",
       " 'BG': 'BG | Border Gateways边界网关',\n",
       " 'BGCF': 'BGCF | Breakout Gateway Control Function出口网关控制功能',\n",
       " 'BGP': 'BGP | Border Gateway Protocol边界网关协议',\n",
       " 'BIOS': 'BIOS | Basic Input/Output System基本输入/输出系统',\n",
       " 'BMC': 'BMC | Baseboard Management Controller主板管理控制器',\n",
       " 'BOSS': 'BOSS | Business and Operation Support System运营和运维支撑系统',\n",
       " 'BSF': 'BSF | Binding Support Function绑定支持功能',\n",
       " 'BSID': 'BSID | Base station identifier基站识别号',\n",
       " 'BSR': 'BSR | Bootstrap Router自举路由器',\n",
       " 'BSS': 'BSS | Business Support System业务支撑系统',\n",
       " 'CCA': 'CCA | Credit Control Answer信用控制应答',\n",
       " 'CCA-I': 'CCA-I | Credit Control Answer-Initial初始信用控制应答',\n",
       " 'CCA-T': 'CCA-T | Credit Control Answer-Terminate终止信用控制应答',\n",
       " 'CCA-U': 'CCA-U | Credit Control Answer-Update更新信用控制应答',\n",
       " 'CCC': 'CCC | CDB Control CenterCDB控制中心',\n",
       " 'CCR': 'CCR | Credit Control Request信用控制请求',\n",
       " 'CCR-I': 'CCR-I | Credit Control Request-Initial初始信用控制请求',\n",
       " 'CCR-T': 'CCR-T | Credit Control Request-Terminate终止信用控制请求',\n",
       " 'CCR-U': 'CCR-U | Credit Control Request-Update更新信用控制请求',\n",
       " 'CDB': 'CDB | Context Database内容上下文数据库',\n",
       " 'CDMA': 'CDMA | Code Division Multiple Access码分多址',\n",
       " 'CDN': 'CDN | CDB Data NodeCDB数据节点',\n",
       " 'CDR': 'CDR | Call Detail Record呼叫详细记录，即话单',\n",
       " 'CDU': 'CDU | Cloud Database Unit云数据库单元',\n",
       " 'CE': 'CE | Customer Edge用户网络边缘设备',\n",
       " 'CEA': 'CEA | Capabilities Exchange Answer能力交换响应',\n",
       " 'CER': 'CER | Capabilities Exchange Request能力交换请求',\n",
       " 'CG': 'CG | Charging Gateway计费网关',\n",
       " 'CGF': 'CGF | Charging Gateway Function 计费网关功能',\n",
       " 'CGI': 'CGI | Cell Global Identification小区全球识别码',\n",
       " 'CGSL': 'CGSL | Carrier Grade Server Linux电信级服务器Linux',\n",
       " 'CGW': 'CGW | CDB GatewayCDB接入网关',\n",
       " 'CHAP': 'CHAP | Challenge Handshake Authentication Protocol挑战握手认证协议',\n",
       " 'CHF': 'CHF | Charging Function计费功能',\n",
       " 'CHR': 'CHR | Call History Record呼叫历史记录',\n",
       " 'CI': 'CI | Cell Identity小区标识号',\n",
       " 'CIDR': 'CIDR | Classless Inter-Domain Routing无类别域间路由',\n",
       " 'CIM': 'CIM | Container Infrastructure Manager容器基础设施管理器',\n",
       " 'CMCC': 'CMCC | China Mobile Communications Corporation中国移动通信集团公司',\n",
       " 'CMF': 'CMF | Charging Management Function计费管理功能',\n",
       " 'CMP': 'CMP | Calling Main Processor主呼叫处理模块',\n",
       " 'CMPP': 'CMPP | China Mobile Peer to Peer中国移动点对点协议',\n",
       " 'CN': 'CN | Core Network核心网',\n",
       " 'CNF': 'CNF | CloudNative Network Function云原生网络功能',\n",
       " 'CNGP': 'CNGP | China Netcom Short Message Gateway Protocol中国网通短消息网关协议',\n",
       " 'COTS': 'COTS | Commercial Off The Shelf商用货架产品',\n",
       " 'CP': 'CP | Content Provider内容提供商',\n",
       " 'CPE': 'CPE | Customer Premises Equipment用户驻地设备',\n",
       " 'CPU': 'CPU | Central Processing Unit中央处理器',\n",
       " 'CRC': 'CRC | Cyclic Redundancy Check循环冗余校验',\n",
       " 'CSCF': 'CSCF | Call Session Control Function呼叫对话控制功能',\n",
       " 'CSFB': 'CSFB | Circuit Switched Fallback电路域回落',\n",
       " 'CTS': 'CTS | Call Trace System呼叫跟踪系统',\n",
       " 'CU': 'CU | Centralized Unit集中式单元',\n",
       " 'CUI': 'CUI | Chargeable User Identity用户计费标识',\n",
       " 'CUPS': 'CUPS | Control and User Plane Separation控制面与用户面分离',\n",
       " 'CaaS': 'CaaS | Container as a Service容器即服务',\n",
       " 'DAP': 'DAP | Diameter Access PointDiameter 接入节点',\n",
       " 'DB': 'DB | Database数据库',\n",
       " 'DC': 'DC | Data Center数据中心',\n",
       " 'DDB': 'DDB | DSC DatabaseDSC数据库模块',\n",
       " 'DDoS': 'DDoS | Distributed Denial of Service分布式拒绝服务',\n",
       " 'DHCP': 'DHCP | Dynamic Host Configuration Protocol动态主机配置协议',\n",
       " 'DL': 'DL | Down Link下行链路',\n",
       " 'DMZ': 'DMZ | Demilitarized Zone隔离区',\n",
       " 'DN': 'DN | Data Network数据网',\n",
       " 'DNAI': 'DNAI | DN Access Identifier数据网络接入标识符',\n",
       " 'DNN': 'DNN | Data Network Name数据网名称',\n",
       " 'DNS': 'DNS | Domain Name Server域名服务器',\n",
       " 'DPD': 'DPD | Dead Peer Detect对等体死亡检测',\n",
       " 'DPI': 'DPI | Deep Packet Inspection深度包检测',\n",
       " 'DPR': 'DPR | Disconnect Peer Request拆除对等端连接请求',\n",
       " 'DR': 'DR | Designated Router指定路由器',\n",
       " 'DRA': 'DRA | Diameter Routing AgentDiameter路由代理',\n",
       " 'DSA': 'DSA | Directory Service Agent目录服务代理',\n",
       " 'DSCP': 'DSCP | Differentiated Services Code Point差分服务编码点',\n",
       " 'DU': 'DU | Distributed Unit分布式单元',\n",
       " 'DVS': 'DVS | Distributed Virtual Switch分布式虚拟交换机',\n",
       " 'DWA': 'DWA | Device Watchdog Answer设备监控应答消息',\n",
       " 'DWR': 'DWR | Device Watchdog Request设备监控请求消息',\n",
       " 'DoS': 'DoS | Denial of Service拒绝服务',\n",
       " 'E-UTRAN': 'E-UTRAN | Evolved Universal Terrestrial Radio Access Network演进的通用陆地无线接入网络',\n",
       " 'E2E': 'E2E | End-to-End终端到终端',\n",
       " 'ECC': 'ECC | Error Check and Correction错误检查和纠正',\n",
       " 'ECGI': 'ECGI | E-UTRAN Cell Global IdentifierE-UTRAN小区全球标识',\n",
       " 'ECI': 'ECI | E-UTRAN Cell IdentifierE-UTRAN小区标识',\n",
       " 'ECMP': 'ECMP | Equal-Cost Multi-Path routing等价多路由',\n",
       " 'EDGE': 'EDGE | Enhanced Data rates for GSM EvolutionGSM用的增强型数据速率',\n",
       " 'EDR': 'EDR | Event Detail Record事件详细记录',\n",
       " 'EIR': 'EIR | Equipment Identity Register设备标识寄存器',\n",
       " 'EM': 'EM | Element Management网元管理',\n",
       " 'EMC': 'EMC | Elastic Management Center弹性管理中心',\n",
       " 'EME': 'EME | Electromagnetic Energy电磁能量',\n",
       " 'EMS': 'EMS | Element Management System网元管理系统',\n",
       " 'EPC': 'EPC | Evolved Packet Core演进的分组核心网',\n",
       " 'EPS': 'EPS | Evolved Packet System演进的分组系统',\n",
       " 'ESD': 'ESD | Electrostatic Discharge静电放电',\n",
       " 'ETSI': 'ETSI | European Telecommunications Standards Institute欧洲电信标准化协会',\n",
       " 'EoR': 'EoR | End of Row列末综合布线',\n",
       " 'FAR': 'FAR | Forwarding Action Rule报文转发规则',\n",
       " 'FCC': 'FCC | Federal Communication Commission联邦通信委员会（美国）',\n",
       " 'FDD': 'FDD | Frequency Division Duplex频分双工',\n",
       " 'FE': 'FE | Front End前端/前台',\n",
       " 'FQDN': 'FQDN | Fully Qualified Domain Name完全限定域名',\n",
       " 'FRR': 'FRR | Fast Reroute快速重路由',\n",
       " 'FTP': 'FTP | File Transfer Protocol文件传输协议',\n",
       " 'FUP': 'FUP | Fair Usage Policy公平使用策略',\n",
       " 'FlexE': 'FlexE | Flex Ethernet灵活以太网',\n",
       " 'GBR': 'GBR | Guaranteed Bandwidth Requested最大保证带宽',\n",
       " 'GCID': 'GCID | GPRS Charging IdentifierGPRS计费标识',\n",
       " 'GDPR': 'GDPR | General Data Protection Regulation通用数据保护条例',\n",
       " 'GERAN': 'GERAN | GSM/EDGE Radio Access NetworkGSM/EDGE无线接入网',\n",
       " 'GFBR': 'GFBR | Guaranteed Flow Bit Rate保证流比特率',\n",
       " 'GGSN': 'GGSN | Gateway GPRS Support NodeGPRS网关支持节点',\n",
       " 'GPRS': 'GPRS | General Packet Radio Service通用无线分组数据业务',\n",
       " 'GPSI': 'GPSI | Generic Public Subscription Identifier一般公共用户标识',\n",
       " 'GR': 'GR | Graceful Restart优雅重启',\n",
       " 'GRE': 'GRE | General Routing Encapsulation通用路由封装',\n",
       " 'GSO': 'GSO | Global Service Orchestrator全局业务编排器',\n",
       " 'GSU': 'GSU | General Service Unit通用业务单元',\n",
       " 'GT': 'GT | Global Title全局名',\n",
       " 'GTP': 'GTP | GPRS Tunneling ProtocolGPRS隧道协议',\n",
       " 'GTSM': 'GTSM | Generalized TTL Security Mechanism通用TTL安全保护机制',\n",
       " 'GUAMI': 'GUAMI | Globally Unique AMF ID全球唯一AMF标识',\n",
       " 'GUI': 'GUI | Graphical User Interface图形用户界面',\n",
       " 'GUMMEI': 'GUMMEI | Globally Unique MME Identifier全球唯一移动性管理实体标识',\n",
       " 'GUTI': 'GUTI | Globally Unique Temporary Identity全球唯一临时标识',\n",
       " 'GW': 'GW | GateWay网关',\n",
       " 'HLD': 'HLD | High Level Design高层次设计',\n",
       " 'HLR': 'HLR | Home Location Register归属位置寄存器',\n",
       " 'HPLMN': 'HPLMN | Home Public Land Mobile Network归属公众陆地移动网',\n",
       " 'HSS': 'HSS | Home Subscriber Server归属用户服务器',\n",
       " 'HTTP': 'HTTP | Hypertext Transfer Protocol超文本传输协议',\n",
       " 'HTTPS': 'HTTPS | Hypertext Transfer Protocol Secure超文本传输安全协议',\n",
       " 'I-CSCF': 'I-CSCF | Input/Output输入/输出',\n",
       " 'IAAS': 'IAAS | Infrastructure as a Service基础设施即服务',\n",
       " 'IAM': 'IAM | Initial Address Message初始地址消息',\n",
       " 'ICID': 'ICID | IM CN subsystem charging identifierIM子系统计费标识',\n",
       " 'ICMP': 'ICMP | Internet Control Message ProtocolInternet控制报文协议',\n",
       " 'ICS': 'ICS | IMS Centralized ServiceIMS集中式业务提供',\n",
       " 'ID': 'ID | Identification识别',\n",
       " 'IDC': 'IDC | Internet Data Center互联网数据中心',\n",
       " 'IE': 'IE | Internet Explorer因特网浏览器',\n",
       " 'IEEE': 'IEEE | Institute of Electrical and Electronics Engineers电气与电子工程师学会',\n",
       " 'IETF': 'IETF | Internet Engineering Task Force因特网工程任务组',\n",
       " 'IGMP': 'IGMP | Internet Group Management Protocol因特网组播管理协议',\n",
       " 'IK': 'IK | Integrity Key鉴权密钥',\n",
       " 'IM': 'IM | Instant Message即时消息',\n",
       " 'IM-MGW': 'IM-MGW | IP Multimedia-Media GatewayIP多媒体媒体网关',\n",
       " 'IMEI': 'IMEI | International Mobile Equipment Identity国际移动设备标识',\n",
       " 'IMEISV': 'IMEISV | International Mobile Equipment Identity and Software Version number国际移动设备识别码和软件版本号',\n",
       " 'IMPI': 'IMPI | IP Multimedia Private IdentityIP多媒体私有标识',\n",
       " 'IMPU': 'IMPU | IP Multimedia Public IdentityIP多媒体公有标识',\n",
       " 'IMS': 'IMS | IP Multimedia SubsystemIP多媒体子系统',\n",
       " 'IMSI': 'IMSI | International Mobile Subscriber Identity国际移动用户标识',\n",
       " 'IO': 'IO | Input & Output输入输出',\n",
       " 'IOMMU': 'IOMMU | Input/Output Memory Management UnitI/O内存管理单元',\n",
       " 'IOPS': 'IOPS | Input/Output Operations Per Second每秒输入/输出操作',\n",
       " 'IP': 'IP | Internet Protocol因特网协议',\n",
       " 'IP-CAN': 'IP-CAN | IP Connectivity Access NetworkIP连通接入网',\n",
       " 'IPSec': 'IPSec | IP Security ProtocolIP安全协议',\n",
       " 'IPU': 'IPU | Interface Process Unit接口处理单元',\n",
       " 'IPX': 'IPX | Internetwork Packet Exchange protocolInternet网络分组交换协议',\n",
       " 'IPv4': 'IPv4 | Internet Protocol Version 4互联网通信协议第四版',\n",
       " 'IPv6': 'IPv6 | Internet Protocol Version 6互联网通信协议第六版',\n",
       " 'ISDN': 'ISDN | International Subscriber Directory Number国际用户目录号',\n",
       " 'ISIM': 'ISIM | IMS Subscriber Identity ModuleIMS用户身份模块',\n",
       " 'ISO': 'ISO | International Organization for Standardization国际标准化组织',\n",
       " 'IT': 'IT | Information Technology信息技术',\n",
       " 'ITU-T': 'ITU-T | International Telecommunication Union - Telecommunication Standardization Sector国际电信联盟－电信标准部',\n",
       " 'IVR': 'IVR | Interactive Voice Response交互式语音应答',\n",
       " 'IaaS': 'IaaS | Infrastructure as a Service基础设施即服务',\n",
       " 'JSON': 'JSON | Java Script Object NotationJava脚本对象标记',\n",
       " 'KPI': 'KPI | Key Performance Indicator关键性能指标',\n",
       " 'L2TP': 'L2TP | Layer2 Tunneling Protocol第二层隧道协议',\n",
       " 'L3VPN': 'L3VPN | Layer 3 Virtual Private Network三层虚拟专用网',\n",
       " 'LADN': 'LADN | Local Area Data Network局域数据网',\n",
       " 'LAI': 'LAI | Location Area Information移动台位置信息',\n",
       " 'LB': 'LB | Load Balance负载均衡',\n",
       " 'LDAP': 'LDAP | Lightweight Directory Access Protocol轻量级目录访问协议',\n",
       " 'LDAPS': 'LDAPS | LDAP over SSL安全LDAP',\n",
       " 'LDB': 'LDB | Local Database本地数据库',\n",
       " 'LDP': 'LDP | Label Distribution Protocol标记分发协议',\n",
       " 'LIB': 'LIB | Label Information Base标签信息库',\n",
       " 'LLD': 'LLD | Low Level Design详细设计',\n",
       " 'LNS': 'LNS | L2TP Network ServerL2TP网络服务器',\n",
       " 'LRDIMM': 'LRDIMM | Load Reduced Dual Inline Memory Module低负载双列直插内存模块',\n",
       " 'LSA': 'LSA | Link State Advertisement链路状态广播',\n",
       " 'LSP': 'LSP | Label Switched Path标签交换路径',\n",
       " 'LSU': 'LSU | Log Storage Unit日志存储单元',\n",
       " 'LTE': 'LTE | Long Time Evolution更长期发展',\n",
       " 'LTM': 'LTM | Logical Topology Management逻辑拓扑管理',\n",
       " 'M3UA': 'M3UA | MTP3-User Adaptation layer protocolMTP第三层的用户适配层协议',\n",
       " 'MAA': 'MAA | Multimedia-Authorization-Answer多媒体鉴权响应',\n",
       " 'MAC': 'MAC | Media Access Control媒介接入控制',\n",
       " 'MANO': 'MANO | Management and Orchestration管理和编排',\n",
       " 'MAP': 'MAP | Mobile Application Part移动应用部分',\n",
       " 'MAR': 'MAR | Multimedia-Authorization-Request多媒体鉴权请求',\n",
       " 'MBR': 'MBR | Maximum Bit Rate最大比特率',\n",
       " 'MCC': 'MCC | Mobile Country Code移动国家码',\n",
       " 'MCPTT': 'MCPTT | Mission Critical Push To Talk关键任务一键通',\n",
       " 'MEC': 'MEC | Multi-access Edge Computing多接入边缘计算',\n",
       " 'MEP': 'MEP | MEC Platform多接入边缘计算平台',\n",
       " 'MFBR': 'MFBR | Maximum Flow Bit Rate最大流比特率',\n",
       " 'MGCF': 'MGCF | Media Gateway Control Function媒体网关控制功能',\n",
       " 'MGW': 'MGW | Media GateWay媒体网关',\n",
       " 'MICO': 'MICO | Mobile Initiated Connection Only仅限移动发起连接',\n",
       " 'MM': 'MM | Mobility Management移动性管理',\n",
       " 'MME': 'MME | Mobile Multimedia E-mail移动多媒体邮件',\n",
       " 'MML': 'MML | Man Machine Language人机语言',\n",
       " 'MMTel': 'MMTel | Multimedia Telephony多媒体电话',\n",
       " 'MNC': 'MNC | Mobile Network Code移动网络号',\n",
       " 'MP': 'MP | Main Processor主处理器',\n",
       " 'MPS': 'MPS | Multimedia Priority Service多媒体优先业务',\n",
       " 'MPU': 'MPU | Main Processing Unit主处理单元',\n",
       " 'MRFC': 'MRFC | Multimedia Resource Function Controller多媒体资源功能控制器',\n",
       " 'MRFP': 'MRFP | Multimedia Resource Function Processor多媒体资源功能处理器',\n",
       " 'MS': 'MS | Mobile Station移动台',\n",
       " 'MSC': 'MSC | Mobile Switching Center移动交换中心',\n",
       " 'MSDP': 'MSDP | Multicast Source Discovery Protocol组播源发现协议',\n",
       " 'MSISDN': 'MSISDN | Mobile Station International Subscriber Directory Number移动台国际用户目录号',\n",
       " 'MTBF': 'MTBF | Mean Time Between Failures平均故障间隔时间',\n",
       " 'MTTR': 'MTTR | Mean Time To Recovery平均恢复时间',\n",
       " 'MTU': 'MTU | Maximum Transfer Unit最大传输单元',\n",
       " 'NAI': 'NAI | Network Access Identifier网络接入标识',\n",
       " 'NAS': 'NAS | Network Access Service网络接入服务',\n",
       " 'NAT': 'NAT | Network Address Translation网络地址转换',\n",
       " 'NE': 'NE | Network Element网络单元（网元）',\n",
       " 'NEF': 'NEF | Network Element Function网络单元（网元）功能',\n",
       " 'NF': 'NF | Network Function网络功能',\n",
       " 'NFS': 'NFS | Network Function Service网络功能服务',\n",
       " 'NFV': 'NFV | Network Functions Virtualization网络功能虚拟化',\n",
       " 'NFVI': 'NFVI | Network Functions Virtualization Infrastructure网络功能虚拟化基础设施',\n",
       " 'NFVO': 'NFVO | Network Functions Virtualization Orchestrator网络功能虚拟化编排器',\n",
       " 'NG-RAN': 'NG-RAN | Next Generation Radio Access Network下一代无线接入网',\n",
       " 'NITZ': 'NITZ | Network Identity and Time Zone网络标志和时区',\n",
       " 'NMS': 'NMS | Network Management System网络管理系统',\n",
       " 'NR': 'NR | New Radio新无线',\n",
       " 'NRF': 'NRF | NF Repository Function网络仓储功能',\n",
       " 'NRI': 'NRI | Network Resource Identifier网络资源标识',\n",
       " 'NS': 'NS | Network Service网络服务',\n",
       " 'NSA': 'NSA | Non-Standalone5G非独立组网',\n",
       " 'NSMF': 'NSMF | Network Slice Management Function网络切片管理功能',\n",
       " 'NSSAI': 'NSSAI | Network Slice Selection Assistance Information网络切片选择辅助信息',\n",
       " 'NSSF': 'NSSF | Network Slice Selection Function网络切片选择功能',\n",
       " 'NSSI': 'NSSI | Network Slice Subnet Instance网络子切片实例',\n",
       " 'NSSMF': 'NSSMF | Network Slice Subnet Management Function网络子切片管理功能',\n",
       " 'NSST': 'NSST | Network Slice Subnet Template网络子切片模板',\n",
       " 'NTP': 'NTP | Network Time Protocol网络时间协议',\n",
       " 'NWDAF': 'NWDAF | Network Data Analytics Function网络数据分析功能',\n",
       " 'OAM': 'OAM | Operation, Administration and Maintenance操作管理维护',\n",
       " 'OCI': 'OCI | Overload Control Information过载控制信息',\n",
       " 'OCS': 'OCS | Online Charging System在线计费系统',\n",
       " 'OFDMA': 'OFDMA | Orthogonal Frequency Division Multiple Access正交频分多址接入',\n",
       " 'OMM': 'OMM | Operation and Maintenance Management操作维护管理',\n",
       " 'OMP': 'OMP | Operation & maintenance Main Processor操作维护主处理板',\n",
       " 'OMU': 'OMU | Operation & Management Unit操作管理单元',\n",
       " 'OS': 'OS | Operating System操作系统',\n",
       " 'OSD': 'OSD | Open Script Designer脚本设计器',\n",
       " 'OSE': 'OSE | Open Script Execution Engine脚本执行引擎',\n",
       " 'OSP': 'OSP | OpenStack PlatformOpenStack平台',\n",
       " 'OSPF': 'OSPF | Open Shortest Path First开放最短路径优先',\n",
       " 'OSS': 'OSS | Operation Support System运营支撑系统',\n",
       " 'OTA': 'OTA | Over The Air空中传输',\n",
       " 'OTDR': 'OTDR | Optical Time Domain Reflectometer光时域反射仪',\n",
       " 'OTT': 'OTT | Over The Top通过互联网向用户提供各种应用服务',\n",
       " 'OVS': 'OVS | Open VSwitch虚拟交换机',\n",
       " 'P-CSCF': 'P-CSCF | Proxy-Call Session Control Function代理呼叫会话控制功能',\n",
       " 'P-GW': 'P-GW | Packet Data Network Gateway分组数据网网关',\n",
       " 'P2P': 'P2P | Point to Point点对点',\n",
       " 'PANI': 'PANI | P-Access-Network-Info接入网信息（SIP私有扩展之一）',\n",
       " 'PAP': 'PAP | Password Authentication Protocol密码认证协议',\n",
       " 'PC': 'PC | Personal Computer个人电脑',\n",
       " 'PCC': 'PCC | Policy and Charging Control计费和策略控制',\n",
       " 'PCCPI': 'PCCPI | PCC Private IdentityPCC私有标识',\n",
       " 'PCEF': 'PCEF | Policy and Charging Enforcement Function计费和策略控制实施功能',\n",
       " 'PCF': 'PCF | Packet Control Function分组控制功能',\n",
       " 'PCO': 'PCO | Protocol Configuration Option协议配置选项',\n",
       " 'PCRF': 'PCRF | Policy and Charging Rules Function策略和计费规则功能',\n",
       " 'PDB': 'PDB | Packet Delay Budget数据包时延预算',\n",
       " 'PDCP': 'PDCP | Packet Data Convergence Protocol分组数据收敛协议',\n",
       " 'PDN': 'PDN | Packet Data Network分组数据网',\n",
       " 'PDR': 'PDR | Packet Detection Rule报文检测规则',\n",
       " 'PDS': 'PDS | Primary Directory Server主用目录服务器',\n",
       " 'PDU': 'PDU | Protocol Data Unit协议数据单元',\n",
       " 'PE': 'PE | Provider Edge运营商网络边缘',\n",
       " 'PEI': 'PEI | Permanent Equipment Identifier永久设备标识',\n",
       " 'PF': 'PF | Packet Filter包过滤',\n",
       " 'PFCP': 'PFCP | Packet Forwarding Control Protocol报文转发控制协议',\n",
       " 'PFU': 'PFU | Packet Forwarding Unit网络处理单元',\n",
       " 'PGW': 'PGW | Provision Gateway受理网关',\n",
       " 'PI': 'PI | Performance Index性能指标',\n",
       " 'PL': 'PL | Priority Level优先等级',\n",
       " 'PLMN': 'PLMN | Public Land Mobile Network公共陆地移动网',\n",
       " 'PNA': 'PNA | Push-Notification-Answer推送通知响应',\n",
       " 'PNR': 'PNR | Push-Notification-Request推送通知请求',\n",
       " 'POD': 'POD | Point of Deployment部署单元',\n",
       " 'PP': 'PP | Peripheral Processor外围处理器',\n",
       " 'PPE': 'PPE | Personal Protective Equipment个人防护用品',\n",
       " 'PPM': 'PPM | Product and Package Management产品与套餐管理',\n",
       " 'PRA': 'PRA | Presence Reporting Area出现上报区域',\n",
       " 'PRB': 'PRB | Physical Resource Block物理资源块',\n",
       " 'PRN': 'PRN | PGW Restart NotificationPGW重启通知',\n",
       " 'PSA': 'PSA | PDU Session AnchorPDU会话锚点',\n",
       " 'PSI': 'PSI | PCF Session IdentityPCF会话标识',\n",
       " 'PUDR': 'PUDR | Policy UDR统一的策略数据存储库',\n",
       " 'PUI': 'PUI | Public User Identity公开用户标识',\n",
       " 'PVID': 'PVID | Port VLAN ID端口虚拟局域网标识',\n",
       " 'PaaS': 'PaaS | Platform as a Service平台即服务',\n",
       " 'QCI': 'QCI | QoS Class IdentifierQoS类别标识',\n",
       " 'QER': 'QER | QoS Enforcement RuleQoS执行规则',\n",
       " 'QFI': 'QFI | QoS Flow IdentityQoS流标识',\n",
       " 'QPS': 'QPS | Queries-per-second每秒查询率',\n",
       " 'QoS': 'QoS | Quality of Service服务质量',\n",
       " 'RAA': 'RAA | Re-Auth-Answer重新鉴权响应',\n",
       " 'RADIUS': 'RADIUS | Remote Authentication Dial In User Service远端鉴权拨号用户服务',\n",
       " 'RAI': 'RAI | Routing Area Identity路由区标识',\n",
       " 'RAID': 'RAID | Redundant Array of Independent Disks独立冗余磁盘阵列',\n",
       " 'RAN': 'RAN | Radio Access Network无线接入网',\n",
       " 'RAR': 'RAR | Re-Auth-Request重新鉴权请求',\n",
       " 'RAT': 'RAT | Radio Access Technology无线接入技术',\n",
       " 'RCA': 'RCA | Root Cause Analysis根本原因分析',\n",
       " 'RCP': 'RCP | Resource Control Platform资源控制平台',\n",
       " 'RD': 'RD | Route Distinguisher路由标识符',\n",
       " 'RDIMM': 'RDIMM | Registered Dual Inline Memory Module带寄存器的双列直插内存模块',\n",
       " 'REST': 'REST | Representational State Transfer表述性状态转移',\n",
       " 'RF': 'RF | Radio Frequency射频',\n",
       " 'RFC': 'RFC | Request For Comments请求注解',\n",
       " 'RFSP': 'RFSP | RAT/Frequency Selection Priority无线/频率选择优先级',\n",
       " 'RG': 'RG | Rating Group费率组',\n",
       " 'RGW': 'RGW | Replication Gateway局间复制模块',\n",
       " 'RIP': 'RIP | Routing Information Protocol路由信息协议',\n",
       " 'RNC': 'RNC | Radio Network Controller无线网络控制器',\n",
       " 'ROSng': 'ROSng | Realtime OS Next Generation下一代实时操作系统',\n",
       " 'RP': 'RP | Rendezvous Point汇聚点',\n",
       " 'RQA': 'RQA | Reflective QoS Attribute反射QoS属性',\n",
       " 'RRC': 'RRC | Radio Resource Controller无线资源控制器',\n",
       " 'RTCP': 'RTCP | Real-time Transport Control Protocol实时传输控制协议',\n",
       " 'RTP': 'RTP | Real-time Transport Protocol实时传输协议',\n",
       " 'S-CSCF': 'S-CSCF | Serving-Call Session Control Function服务呼叫会话控制功能',\n",
       " 'S-GW': 'S-GW | Serving Gateway服务网关',\n",
       " 'S-NSSAI': 'S-NSSAI | Single Network Slice Selection Assistance Information单个网络切片选择辅助信息',\n",
       " 'SA': 'SA | Standalone5G独立组网',\n",
       " 'SAC': 'SAC | Service Area Code业务区码',\n",
       " 'SAE': 'SAE | System Architecture Evolution系统架构演进',\n",
       " 'SAI': 'SAI | Service Area Identity业务区域标识',\n",
       " 'SAR': 'SAR | Server-Assignment-Request服务器指派请求',\n",
       " 'SBA': 'SBA | Service Based Architecture基于服务的架构',\n",
       " 'SBC': 'SBC | Session Border Controller会话边界控制器',\n",
       " 'SBI': 'SBI | Service Based Interface基于服务的接口',\n",
       " 'SC': 'SC | Service Component服务组件',\n",
       " 'SCC': 'SCC | Service Centralization and Continuity业务集中和连续',\n",
       " 'SCCP': 'SCCP | Signaling Connection Control Part信号连接控制部分',\n",
       " 'SCCU': 'SCCU | Service Component Control Unit服务组件控制单元',\n",
       " 'SCP': 'SCP | Service Communication Proxy服务通讯代理',\n",
       " 'SCR': 'SCR | Sustainable Cell Rate可维持信元速率',\n",
       " 'SCTP': 'SCTP | Stream Control Transmission Protocol流控制传输协议',\n",
       " 'SDH': 'SDH | Synchronous Digital Hierarchy同步数字体系',\n",
       " 'SDK': 'SDK | Software Development Kit软件开发工具',\n",
       " 'SDN': 'SDN | Software Defined Network软件定义网络',\n",
       " 'SDP': 'SDP | Session Description Protocol会话描述协议',\n",
       " 'SEPP': 'SEPP | Security Edge Protection Proxy安全边缘保护代理',\n",
       " 'SFTP': 'SFTP | Secure File Transfer Protocol安全文件传输协议',\n",
       " 'SGIP': 'SGIP | Short Message Gateway Interface Protocol中国联合通信公司短消息网关系统接口协议',\n",
       " 'SGSN': 'SGSN | Serving GPRS Support Node服务GPRS支持节点',\n",
       " 'SGW': 'SGW | Signaling Gateway信令网关',\n",
       " 'SID': 'SID | Service Identifier业务标识',\n",
       " 'SIG': 'SIG | Signal信令',\n",
       " 'SIM': 'SIM | Subscriber Identity Module用户识别卡',\n",
       " 'SIP': 'SIP | Simple Internet Protocol简单IP协议',\n",
       " 'SIPI': 'SIPI | Signaling IP bearer Interface信令IP承载接入板',\n",
       " 'SLA': 'SLA | Spending Limit Answer消费限额应答',\n",
       " 'SLR': 'SLR | Subscriber Location Report发送者定位报告',\n",
       " 'SM': 'SM | Session Management会话管理',\n",
       " 'SMC': 'SMC | Short Message Center短消息中心',\n",
       " 'SMF': 'SMF | Service Management Function业务管理功能',\n",
       " 'SMGP': 'SMGP | Short Message Gateway Protocol中国电信短消息网关协议',\n",
       " 'SMP': 'SMP | Signal Main Processor信令主处理模块',\n",
       " 'SMPP': 'SMPP | Short Message Peer to Peer Protocol短消息点对点协议',\n",
       " 'SMS': 'SMS | Short Message Service短消息业务',\n",
       " 'SMSC': 'SMSC | Short Message Service Center短消息中心',\n",
       " 'SMTP': 'SMTP | Simple Mail Transfer Protocol简单邮件传输协议',\n",
       " 'SNA': 'SNA | Subscription-Notification-Answer订阅通知响应',\n",
       " 'SNMP': 'SNMP | Simple Network Management Protocol简单网络管理协议',\n",
       " 'SNR': 'SNR | Subscription-Notification-Request订阅通知请求',\n",
       " 'SOAP': 'SOAP | Simple Object Access Protocol简单对象访问协议',\n",
       " 'SP': 'SP | Service Provider服务提供商',\n",
       " 'SPR': 'SPR | Subscription Profile Repository用户签约数据库',\n",
       " 'SQL': 'SQL | Structured Query Language结构化查询语言',\n",
       " 'SR-IOV': 'SR-IOV | Single-Root I/O Virtualization单根I/O虚拟化',\n",
       " 'SRVCC': 'SRVCC | Single Radio Voice Call Continuity单射频语音呼叫连续性',\n",
       " 'SSA': 'SSA | Subsystem Allowed子系统允许',\n",
       " 'SSC': 'SSC | Session and Service Continuity会话与业务连续性',\n",
       " 'SSDS': 'SSDS | Secondary Synchronization Directory Server数据同步的备用目录服务器',\n",
       " 'SSH': 'SSH | Secure Shell安全外壳协议',\n",
       " 'SSL': 'SSL | Secure Sockets Layer安全套接字层',\n",
       " 'SST': 'SST | Subsystem Status Test子系统状态测试',\n",
       " 'STA': 'STA | Session-Termination-Answer会话终止响应',\n",
       " 'STP': 'STP | Signaling Transfer Point信令转接点',\n",
       " 'STR': 'STR | Session-Termination-Request会话终止请求',\n",
       " 'SUCI': 'SUCI | Subscription Concealed Identifier签约的隐藏标识符',\n",
       " 'SUPI': 'SUPI | Subscriber Permanent Identifier用户永久标识',\n",
       " 'SaaS': 'SaaS | Software as a Service软件即服务',\n",
       " 'T-ADS': 'T-ADS | Terminating Access Domain Selection终结接入域选择',\n",
       " 'TA': 'TA | Tracking Area跟踪区域',\n",
       " 'TAC': 'TAC | Tracking Area Code跟踪区域码',\n",
       " 'TACACS': 'TACACS | Terminal Access Controller Access Control System终端访问控制器访问控制系统',\n",
       " 'TAI': 'TAI | Tracking Area Identity跟踪区标识',\n",
       " 'TAU': 'TAU | Tracking Area Update跟踪区域更新',\n",
       " 'TCM': 'TCM | Trusted Cryptography Module可信密码模块',\n",
       " 'TCP': 'TCP | Transmission Control Protocol传输控制协议',\n",
       " 'TD-SCDMA': 'TD-SCDMA | Time Division-Synchronization Code Division Multiple Access时分同步码分多址接入',\n",
       " 'TDD': 'TDD | Time Division Duplex时分双工',\n",
       " 'TDF': 'TDF | Traffic Detection Function流量检测功能',\n",
       " 'TEC': 'TEC | Thermoelectric Cooler热电制冷器',\n",
       " 'TECS': 'TECS | Tulip Elastic Cloud System郁金香弹性云系统',\n",
       " 'TEID': 'TEID | Tunnel Endpoint Identifier隧道端点标识',\n",
       " 'TELNET': 'TELNET | Telecommunication Network Protocol远程登录协议',\n",
       " 'TFT': 'TFT | Traffic Flow Template话务流量模型',\n",
       " 'TIPC': 'TIPC | Transparent Interprocess Communication透明的进程间通信',\n",
       " 'TLS': 'TLS | Transport Layer Security传输层安全',\n",
       " 'TLV': 'TLV | Tag, Length, Value标记、长度、取值',\n",
       " 'TMSI': 'TMSI | Temporary Mobile Subscriber Identity临时移动用户识别码',\n",
       " 'TMSP': 'TMSP | Telecom Microservices Platform电信级微服务平台',\n",
       " 'TPM': 'TPM | Trusted Platform Module可信平台模块',\n",
       " 'TPS': 'TPS | Transactions Per Second每秒处理事务数',\n",
       " 'TSA': 'TSA | TDF Session Answer业务探测会话应答',\n",
       " 'TSR': 'TSR | TDF Session Request业务探测会话请求',\n",
       " 'ToR': 'ToR | Top of Rack机架顶部交换机',\n",
       " 'UAA': 'UAA | User-Authorization- Answer用户授权响应',\n",
       " 'UAR': 'UAR | User-Authorization-Request用户授权请求',\n",
       " 'UBAS': 'UBAS | User Behavior Analysis System用户行为分析系统',\n",
       " 'UDA': 'UDA | User-Data-Answer用户数据响应',\n",
       " 'UDB': 'UDB | User Database用户数据库',\n",
       " 'UDM': 'UDM | Unified Data Management统一数据管理',\n",
       " 'UDP': 'UDP | User Datagram Protocol用户数据报协议',\n",
       " 'UDR': 'UDR | Unified Data Repository统一数据存储',\n",
       " 'UDSF': 'UDSF | Unstructured Data Storage Function非结构化数据存储功能',\n",
       " 'UE': 'UE | User Equipment用户设备',\n",
       " 'UL': 'UL | Uplink上行链路',\n",
       " 'ULA': 'ULA | Update-Location-Answer位置更新响应',\n",
       " 'ULCL': 'ULCL | Uplink Classifier上行分类器',\n",
       " 'ULI': 'ULI | User Location Information用户位置信息',\n",
       " 'ULR': 'ULR | Update-Location-Request位置更新请求',\n",
       " 'UME': 'UME | Unified Management Expert统一管理专家',\n",
       " 'UMM': 'UMM | Unified Maintenance Module集中维护模块',\n",
       " 'UMTS': 'UMTS | Universal Mobile Telecommunication System通用移动通讯系统',\n",
       " 'UPF': 'UPF | User Plane Function用户平面功能',\n",
       " 'UPSC': 'UPSC | UE Policy Section CodeUE策略分片码',\n",
       " 'URI': 'URI | Uniform Resource Identifier统一资源标识符',\n",
       " 'URL': 'URL | Uniform Resource Locator统一资源定位符',\n",
       " 'URLLC': 'URLLC | Ultra Reliable Low Latency Communication超高可靠超低时延通信',\n",
       " 'URN': 'URN | Uniform Resource Name统一资源名',\n",
       " 'URR': 'URR | Usage Reporting Rule用量上报规则',\n",
       " 'URSP': 'URSP | UE Route Selection PolicyUE路由选择策略',\n",
       " 'USB': 'USB | Universal Serial Bus通用串行总线',\n",
       " 'USIM': 'USIM | User Service Identity Module通用用户身份识别模块',\n",
       " 'USPP': 'USPP | Universal Subscriber Profile Platform通用用户数据平台',\n",
       " 'UTRAN': 'UTRAN | Universal Terrestrial Radio Access Network通用地面无线接入网络',\n",
       " 'UUID': 'UUID | Universal Unique Identifier全局唯一标识符',\n",
       " 'VDC': 'VDC | Virtual Data Center虚拟数据中心',\n",
       " 'VIM': 'VIM | Virtualized Infrastructure Manager虚拟化基础设施管理系统',\n",
       " 'VIP': 'VIP | Very Important Person贵宾',\n",
       " 'VL': 'VL | Virtual Link虚拟链路',\n",
       " 'VLAN': 'VLAN | Virtual Local Area Network虚拟局域网',\n",
       " 'VLR': 'VLR | Visitor Location Register拜访位置寄存器',\n",
       " 'VM': 'VM | Virtual Machine虚拟机',\n",
       " 'VNF': 'VNF | Virtualized Network Function虚拟化网络功能',\n",
       " 'VNFD': 'VNFD | Virtualized Network Function Descriptor虚拟化网络功能描述符',\n",
       " 'VNFM': 'VNFM | Virtualized Network Function Manager虚拟化网络功能管理器',\n",
       " 'VNFO': 'VNFO | Virtualized Network Function Orchestration虚拟化网络功能编排器',\n",
       " 'VPC': 'VPC | Virtual Private Cloud虚拟私有云',\n",
       " 'VPLMN': 'VPLMN | Visited Public Land Mobile Network拜访公众陆地移动网',\n",
       " 'VPN': 'VPN | Virtual Private Network虚拟专用网',\n",
       " 'VR': 'VR | Virtual Reality虚拟现实',\n",
       " 'VRF': 'VRF | Virtual Route Forwarding虚拟路由转发',\n",
       " 'VRRP': 'VRRP | Virtual Router Redundancy Protocol虚拟路由器冗余协议',\n",
       " 'VRU': 'VRU | Virtual Running Unit虚拟运行单元',\n",
       " 'VXLAN': 'VXLAN | Virtual Extensible Local Area Network虚拟可扩展局域网',\n",
       " 'VoIP': 'VoIP | Voice over Internet Protocol在IP协议上传送语音',\n",
       " 'VoLTE': 'VoLTE | Voice over LTELTE语音',\n",
       " 'VoNR': 'VoNR | Voice over New Radio新空口承载语音',\n",
       " 'VoWiFi': 'VoWiFi | Voice over WiFi基于WiFi的语音业务',\n",
       " 'WAF': 'WAF | Web Application FirewallWeb应用防火墙',\n",
       " 'WCDMA': 'WCDMA | Wideband Code Division Multiple Access宽带码分多址',\n",
       " 'WEB': 'WEB | Web环球网',\n",
       " 'WLAN': 'WLAN | Wireless Local Area Network无线局域网',\n",
       " 'WiFi': 'WiFi | Wireless Fidelity无线保真',\n",
       " 'XRES': 'XRES | Expected User Response预期的用户响应',\n",
       " 'ZDB': 'ZDB | ZIP Database压缩数据库',\n",
       " 'ZENIC': 'ZENIC | ZTE Elastic Network Intelligent Controller中兴通讯弹性网络智能控制器',\n",
       " 'ZTE': 'ZTE | Zhongxing Telecommunications Equipment中兴通讯',\n",
       " 'eMBB': 'eMBB | Enhanced Mobile Broadband增强移动宽带',\n",
       " 'eNodeB': 'eNodeB | Evolved NodeB演进的NodeB',\n",
       " 'eSRVCC': 'eSRVCC | Enhanced Single Radio Voice Call Continuity增强的双模单待无线语音呼叫连续性',\n",
       " 'iFC': 'iFC | initial Filter Criteria初始过滤规则',\n",
       " 'iTop': 'iTop | Intelligent Traffic Operation Platform智能流量经营平台',\n",
       " 'mMTC': 'mMTC | Massive Machine Type Communication海量机器类通信',\n",
       " 'uMAC': 'uMAC | unified Mobile Access Controller统一的移动性接入控制器',\n",
       " 'vFW': 'vFW | virtual Firewall虚拟防火墙',\n",
       " 'xGW': 'xGW | Extendable Gateway综合接入网关'}"
      ]
     },
     "execution_count": 49,
     "metadata": {},
     "output_type": "execute_result"
    }
   ],
   "source": [
    "# Example usage:\n",
    "file_path = 'data/rcp/log.txt'  # Replace with your file path\n",
    "terminology_list = read_terminology_file(file_path)\n",
    "terminology_dict = {}\n",
    "for term in terminology_list:\n",
    "    term_abbrev = term.strip().split(\"|\")[0].strip()\n",
    "    terminology_dict[term_abbrev] = term\n",
    "\n",
    "terminology_dict"
   ]
  },
  {
   "cell_type": "markdown",
   "metadata": {},
   "source": [
    "### 1.2 构建向量库"
   ]
  },
  {
   "cell_type": "code",
   "execution_count": 50,
   "metadata": {},
   "outputs": [],
   "source": [
    "from llama_index.llms.ollama import Ollama\n",
    "from llama_index.core import StorageContext\n",
    "from llama_index.core import Settings\n",
    "\n",
    "from llama_index.embeddings.huggingface import HuggingFaceEmbedding\n",
    "from llama_index.core import StorageContext, VectorStoreIndex\n",
    "\n",
    "\n",
    "OLLAMA_URL = \"http://localhost:11434\"\n",
    "\n",
    "llm = Ollama(\n",
    "    model=\"qwen\", base_url=OLLAMA_URL, temperature=0, request_timeout=120\n",
    ")\n",
    "\n",
    "embed_path = \"/home/jhx/Projects/pretrained_models/bge-m3/\"\n",
    "embed_args = {\n",
    "    'model_name': embed_path, \n",
    "    'max_length': 512, \n",
    "    'embed_batch_size': 32, \n",
    "    'device': 'cuda'\n",
    "    }\n",
    "\n",
    "embeding = HuggingFaceEmbedding(**embed_args)\n",
    "Settings.embed_model = embeding\n",
    "Settings.llm = llm\n"
   ]
  },
  {
   "cell_type": "code",
   "execution_count": 51,
   "metadata": {},
   "outputs": [],
   "source": [
    "# 构建查询引擎\n",
    "from llama_index.core import Document, VectorStoreIndex\n",
    "\n",
    "term_documents = [Document(text = term) for term in terminology_list]\n",
    "\n",
    "index  = VectorStoreIndex.from_documents(term_documents)\n"
   ]
  },
  {
   "cell_type": "code",
   "execution_count": 52,
   "metadata": {},
   "outputs": [
    {
     "name": "stdout",
     "output_type": "stream",
     "text": [
      "N7接口中的IMSI信息在Input/Output参数中传递；MSISDN信息同样在Input/Output参数中传递；IMEISV信息也在Input/Output参数中进行传递。\n"
     ]
    }
   ],
   "source": [
    "\n",
    "from llama_index.core.vector_stores import MetadataFilters\n",
    "\n",
    "# Create vector search query engine\n",
    "# query_engine = index.as_query_engine(\n",
    "#     similarity_top_k=5,\n",
    "#     filters=MetadataFilters.from_dicts(\n",
    "#         [\n",
    "#             {\"key\": \"page_label\", \"value\": \"2\"}\n",
    "#         ]\n",
    "#     )\n",
    "# )\n",
    "# response = query_engine.query(\n",
    "#     \"康肃公陈尧咨善于射箭，曾经，他在家里场地射箭，然后发生了什么事？\", \n",
    "# )\n",
    "# print(str(response))\n",
    "\n",
    "query_engine = index.as_query_engine(\n",
    "    similarity_top_k=5,\n",
    ")\n",
    "\n",
    "# N7接口的IMSI、MSISDN、IMEISV分别在哪个参数中传递\n",
    "\n",
    "# template = (\n",
    "#     \"\"\n",
    "#     \"{query_str}\"\n",
    "#     \"\"\n",
    "# )\n",
    "\n",
    "query = '''请根据术语库的信息，将query改写，包含完整术语词，每个术语词符合格式 中文名称（英文全称，英文缩写词）\n",
    "query: N7接口的IMSI、MSISDN、IMEISV分别在哪个参数中传递\n",
    "'''\n",
    "\n",
    "response = query_engine.query(query)\n",
    "print(str(response))"
   ]
  },
  {
   "cell_type": "code",
   "execution_count": 17,
   "metadata": {},
   "outputs": [
    {
     "name": "stdout",
     "output_type": "stream",
     "text": [
      "2\n",
      "I-CSCF | Input/Output输入/输出\n",
      "DNAI | DN Access Identifier数据网络接入标识符\n"
     ]
    }
   ],
   "source": [
    "# retriever = index.as_retriever()\n",
    "# nodes = retriever.retrieve(\"N7接口的IMSI、MSISDN、IMEISV分别在哪个参数中传递\")\n",
    "# print(len(nodes))\n",
    "# print(nodes[0].text)\n",
    "# print(nodes[1].text)\n"
   ]
  },
  {
   "cell_type": "code",
   "execution_count": 18,
   "metadata": {},
   "outputs": [
    {
     "name": "stdout",
     "output_type": "stream",
     "text": [
      "['MSISDN']\n"
     ]
    }
   ],
   "source": [
    "# import re\n",
    "\n",
    "# def extract_acronyms(query, term_definitions):\n",
    "#     acronym_list = []\n",
    "#     term_definitions_lower = {term.lower(): full_name for term, full_name in term_definitions.items()}\n",
    "    \n",
    "#     # Regular expression pattern to find potential acronyms\n",
    "#     pattern = r'\\b[A-Z][a-z0-9]*(?:[A-Z][a-z0-9]*)+\\b'\n",
    "    \n",
    "#     # Find all potential acronyms in the query\n",
    "#     potential_acronyms = re.findall(pattern, query)\n",
    "    \n",
    "#     # Check each potential acronym\n",
    "#     for acronym in potential_acronyms:\n",
    "#         acronym_lower = acronym.lower()\n",
    "        \n",
    "#         if acronym_lower in term_definitions_lower:\n",
    "#             acronym_list.append(acronym)\n",
    "    \n",
    "#     return acronym_list\n",
    "\n",
    "# # Example usage:\n",
    "# query = \"N7接口的IMSI、MSISDN、IMEISV分别在哪个参数中传递\"\n",
    "# term_definitions = {\n",
    "#     \"IMSI\": \"International Mobile Subscriber Identity\",\n",
    "#     \"MSISDN\": \"Mobile Station International Subscriber Directory Number\",\n",
    "#     \"IMEISV\": \"International Mobile Equipment Identity and Software Version\"\n",
    "# }\n",
    "\n",
    "# result = extract_acronyms(query, term_definitions)\n",
    "# print(result)  # Output: ['IMSI', 'MSISDN', 'IMEISV']\n"
   ]
  },
  {
   "cell_type": "code",
   "execution_count": 53,
   "metadata": {},
   "outputs": [
    {
     "name": "stdout",
     "output_type": "stream",
     "text": [
      "['PCF', 'license']\n",
      "['PCC', 'Precedence']\n",
      "['ZXUN', 'RCP']\n"
     ]
    }
   ],
   "source": [
    "def extract_terms(text):\n",
    "    # 定义正则表达式模式，匹配由字母（大小写）、数字和连字符 \"-\" 组成的连续字符序列\n",
    "    pattern = r'[a-zA-Z0-9-]+'\n",
    "    \n",
    "    # 使用正则表达式查找匹配的术语词\n",
    "    matches = re.findall(pattern, text)\n",
    "    \n",
    "    # 去重并保持顺序\n",
    "    unique_matches = []\n",
    "    seen = set()\n",
    "    \n",
    "    for term in matches:\n",
    "        if term not in seen:\n",
    "            unique_matches.append(term)\n",
    "            seen.add(term)\n",
    "    \n",
    "    return unique_matches\n",
    "\n",
    "# 示例文本\n",
    "text = \"PCF使用同一个版本，在同一个环境下部署的多套PCF网元，是否可以使用同一个license申请文件申请\"\n",
    "\n",
    "# 调用函数并打印结果\n",
    "print(extract_terms(text))\n",
    "print(extract_terms(\"PCC规则的Precedence用途是什么？\"))\n",
    "print(extract_terms(\"ZXUN RCP部署成功后，各个虚机个数都是最少个数，是否可以一次性扩容完成？有哪些注意事项？\"))\n"
   ]
  },
  {
   "cell_type": "code",
   "execution_count": 54,
   "metadata": {},
   "outputs": [
    {
     "name": "stdout",
     "output_type": "stream",
     "text": [
      "['N7', 'IMSI', 'MSISDN', 'IMEISV']\n"
     ]
    }
   ],
   "source": [
    "query = \"N7接口的IMSI、MSISDN、IMEISV分别在哪个参数中传递\"\n",
    "possible_terms = extract_terms(query)\n",
    "print(possible_terms)\n",
    "res = []\n",
    "for term in possible_terms:\n",
    "    if term in terminology_dict:\n",
    "        res.append(terminology_dict[term])\n",
    "term_info = \"\\n\".join(res)"
   ]
  },
  {
   "cell_type": "code",
   "execution_count": null,
   "metadata": {},
   "outputs": [],
   "source": []
  },
  {
   "cell_type": "markdown",
   "metadata": {},
   "source": [
    "### 1.3 改写query(不稳定)"
   ]
  },
  {
   "cell_type": "code",
   "execution_count": 51,
   "metadata": {},
   "outputs": [
    {
     "name": "stdout",
     "output_type": "stream",
     "text": [
      "prompt: 术语信息遵循 '英文缩略词 | 英文全称 中文全称' 格式，示例如下：\n",
      "IMSI | International Mobile Subscriber Identity国际移动用户标识\n",
      "MSISDN | Mobile Station International Subscriber Directory Number移动台国际用户目录号\n",
      "IMEISV | International Mobile Equipment Identity and Software Version number国际移动设备识别码和软件版本号\n",
      "请根据术语库信息对问题query进行改写，将术语词的缩写改为'中文名称（英文全称，英文缩写词）'的格式，如' 演进的分组系统 ( Evolved Packet System , EPS ) '，问题如下：\n",
      "query: N7接口的IMSI、MSISDN、IMEISV分别在哪个参数中传递\n",
      "注意：仅仅修改query中的术语词,保持语义不变，并且由空格分开方便分词。 \n",
      "\n",
      "response: N7接口的国际移动用户标识（International Mobile Subscriber Identity，IMSI）、移动台国际用户目录号（Mobile Station International Subscriber Directory Number，MSISDN）、国际移动设备识别码和软件版本号（International Mobile Equipment Identity and Software Version number，IMEISV）分别在哪个参数中传递？\n"
     ]
    }
   ],
   "source": [
    "template = (\n",
    "    \"术语信息遵循 '英文缩略词 | 英文全称 中文全称' 格式，示例如下：\\n\"\n",
    "    \"{term_str}\\n\"\n",
    "    \"请根据术语库信息对问题query进行改写，将术语词的缩写改为'中文名称（英文全称，英文缩写词）'的格式，如' 演进的分组系统 ( Evolved Packet System , EPS ) '，问题如下：\\n\"\n",
    "    \"query: {query_str}\\n\"\n",
    "    \"注意：仅仅修改query中的术语词,保持语义不变，并且由空格分开方便分词。\"\n",
    "    # \"注意：仅仅修改query中的术语词，并且中英文术语都需要空格分开, 方便分词。\"\n",
    "\n",
    ")\n",
    "\n",
    "prompt = template.format(term_str = term_info, query_str= query)\n",
    "print(\"prompt:\",prompt,\"\\n\")\n",
    "response = llm.complete(prompt)\n",
    "print(\"response:\",str(response))"
   ]
  },
  {
   "cell_type": "code",
   "execution_count": 20,
   "metadata": {},
   "outputs": [],
   "source": [
    "def rewrite_query_w_terminology(query, template, llm, terminology_dict):\n",
    "    ''' 根据术语词典,将query改写'''\n",
    "    possible_terms = extract_terms(query)\n",
    "    res = []\n",
    "    for term in possible_terms:\n",
    "        if term in terminology_dict:\n",
    "            res.append(terminology_dict[term])\n",
    "    term_info = \"\\n\".join(res)\n",
    "    # print(\"term_info:\\n\",term_info)\n",
    "    prompt = template.format(term_str = term_info, query_str= query)\n",
    "    response = llm.complete(prompt)\n",
    "\n",
    "    return str(response)\n",
    "    \n"
   ]
  },
  {
   "cell_type": "code",
   "execution_count": 63,
   "metadata": {},
   "outputs": [
    {
     "name": "stdout",
     "output_type": "stream",
     "text": [
      "term_info:\n",
      " RCP | Resource Control Platform资源控制平台\n",
      "HTTP | Hypertext Transfer Protocol超文本传输协议\n",
      "RCP的HTTP信令路由包括资源控制平台的哪些功能？\n",
      "term_info:\n",
      " \n",
      "N7会话的ResourceURI由哪个网络单元在网络消息中生成\n",
      "term_info:\n",
      " RCP | Resource Control Platform资源控制平台\n",
      "IaaS | Infrastructure as a Service基础设施即服务\n",
      "GSU | General Service Unit通用业务单元\n",
      "RCP资源控制平台在IaaS基础设施即服务架构下支持多种GSU通用业务单元虚拟机，具体包括但不限于网络管理、安全防护、负载均衡等关键功能组件。为了提供全面的IT基础架构服务，这些GSU虚机协同工作以实现高效、灵活和可扩展的云计算环境。\n"
     ]
    }
   ],
   "source": [
    "from functools import partial\n",
    "rewrite_fn = partial(rewrite_query_w_terminology, llm=llm, template=template, terminology_dict=terminology_dict)\n",
    "q1 = \"RCP的HTTP信令路由包括哪些功能？\"\n",
    "q2 = \"N7会话的ResourceURI由哪个网元在哪个消息中生成\"\n",
    "q3 = \"RCP在IaaS架构下有哪些GSU虚机？\"\n",
    "\n",
    "print(rewrite_fn(q1))\n",
    "print(rewrite_fn(q2))\n",
    "print(rewrite_fn(q3))\n",
    "\n",
    "# 总结:让模型负责改写query,不靠谱啊 不如对所有的术语词,整理成\\t格式\n"
   ]
  },
  {
   "cell_type": "markdown",
   "metadata": {},
   "source": [
    "### 1.4 改写术语 （llm+re）"
   ]
  },
  {
   "cell_type": "code",
   "execution_count": 55,
   "metadata": {},
   "outputs": [
    {
     "name": "stdout",
     "output_type": "stream",
     "text": [
      "IMEISV | International Mobile Equipment Identity and Software Version number | 国际移动设备识别码和软件版本号\n"
     ]
    }
   ],
   "source": [
    "template = (\n",
    "    \"术语信息遵循 '英文缩略词 | 英文全称 中文全称' 格式，，请参考以下示例修正格式：\\n\"\n",
    "    \"input: 5GC | 5G Core Network5G核心网\\n\"\n",
    "    \"output: 5GC | 5G Core Network | 5G核心网\\n\"\n",
    "    \"input: {term_str}\\n\"\n",
    "    \"output:\"\n",
    ")\n",
    "# prompt: 术语信息遵循 '英文缩略词 | 英文全称 中文全称' 格式，示例如下：\n",
    "# IMSI | International Mobile Subscriber Identity国际移动用户标识\n",
    "# MSISDN | Mobile Station International Subscriber Directory Number移动台国际用户目录号\n",
    "# IMEISV | International Mobile Equipment Identity and Software Version number国际移动设备识别码和软件版本号\n",
    "# 请根据术语库信息对问题query进行改写，将术语词的缩写改为'中文名称（英文全称，英文缩写词）'的格式，如' 演进的分组系统 ( Evolved Packet System , EPS ) '，问题如下：\n",
    "# query: N7接口的IMSI、MSISDN、IMEISV分别在哪个参数中传递\n",
    "# 注意：仅仅修改query中的术语词,保持语义不变，并且由空格分开方便分词。 \n",
    "\n",
    "# response: N7接口的国际移动用户标识（International Mobile Subscriber Identity，IMSI）、移动台国际用户目录号（Mobile Station International Subscriber Directory Number，MSISDN）、国际移动设备识别码和软件版本号（International Mobile Equipment Identity and Software Version number，IMEISV）分别在哪个参数中传递？\n",
    "\n",
    "prompt = template.format(term_str= \"IMSI | International Mobile Subscriber Identity国际移动用户标识\")\n",
    "prompt = template.format(term_str= \"IMEISV | International Mobile Equipment Identity and Software Version number国际移动设备识别码和软件版本号\")\n",
    "\n",
    "response = llm.complete(prompt)\n",
    "print(str(response))"
   ]
  },
  {
   "cell_type": "code",
   "execution_count": 71,
   "metadata": {},
   "outputs": [
    {
     "name": "stdout",
     "output_type": "stream",
     "text": [
      "IMSI | 国际移动用户标识 ( International Mobile Subscriber Identity , IMSI )\n",
      "IMEISV | 国际移动设备识别码和软件版本号 ( International Mobile Equipment Identity and Software Version number , IMEISV )\n",
      "8GC | 核心网 ( 8G Core Network8G , 8GC )\n",
      "IMSI | 国际移动用户标识 ( International Mobile Subscriber Identity , IMSI )\n",
      "A | 非独立组网 ( Non-Standalone5G , A )\n",
      "A | 系统 ( 5G System5G , A )\n",
      "5 | 全球唯一临时标识 ( 5G Globally Unique Temporary Identity5G , 5 )\n",
      "L2TP | 网络服务器 ( L2TP Network ServerL2TP , L2TP )\n"
     ]
    }
   ],
   "source": [
    "def rewrite_term_re(term_str):\n",
    "\n",
    "    term_abbrev, term = [x.strip() for x in term_str.split(\"|\")]\n",
    "\n",
    "    # 定义正则表达式模式，匹配连续的英文字符和连续的中文字符\n",
    "    match = re.match(r'([A-Za-z\\s\\-0-9]+)([\\u4e00-\\u9fff0-9]+.*)', term)\n",
    "    \n",
    "    if match:\n",
    "        term_en = match.group(1).strip()\n",
    "        term_zh = match.group(2).strip()\n",
    "        formatted_term = f\"{term_abbrev}| {term_zh} ( {term_en} , {term_abbrev} )\"\n",
    "    else:\n",
    "        # 如果没有明确分隔，则尝试其他策略\n",
    "        # 找到第一个中文字符出现的位置\n",
    "        index = re.search(r'[\\u4e00-\\u9fff]', term)\n",
    "        if index:\n",
    "            split_pos = index.start()\n",
    "            term_en = term[:split_pos].strip()\n",
    "            term_zh = term[split_pos:].strip()\n",
    "            formatted_term = f\"{term_abbrev}| {term_zh} ( {term_en} , {term_abbrev} )\"\n",
    "        else:\n",
    "            # 如果没有找到中文字符，则认为格式不正确\n",
    "            term_en = term\n",
    "            term_zh = None\n",
    "\n",
    "    if term_zh is not None:\n",
    "        formatted_term = f\"{term_abbrev} | {term_zh} ( {term_en} , {term_abbrev} )\"\n",
    "    else:\n",
    "        formatted_term = f\"{term_abbrev} | {term}\"\n",
    "\n",
    "    return formatted_term\n",
    "\n",
    "print(rewrite_term_re(\"IMSI | International Mobile Subscriber Identity国际移动用户标识\"))\n",
    "print(rewrite_term_re(\"IMEISV | International Mobile Equipment Identity and Software Version number国际移动设备识别码和软件版本号\"))\n",
    "print(rewrite_term_re(\"8GC | 8G Core Network8G核心网\"))\n",
    "sample_inputs = [\n",
    "    \"IMSI | International Mobile Subscriber Identity国际移动用户标识\",\n",
    "    \"A | Non-Standalone5G非独立组网\",\n",
    "    \"A | 5G System5G系统\",\n",
    "    \"5 | 5G Globally Unique Temporary Identity5G全球唯一临时标识\",\n",
    "    \"L2TP | L2TP Network ServerL2TP网络服务器\"\n",
    "]\n",
    "for term in sample_inputs:\n",
    "    print(rewrite_term_re(term))\n"
   ]
  },
  {
   "cell_type": "code",
   "execution_count": 95,
   "metadata": {},
   "outputs": [
    {
     "name": "stdout",
     "output_type": "stream",
     "text": [
      "IMSI | 国际移动用户标识 ( International Mobile Subscriber Identity , IMSI )\n",
      "IMEISV | 国际移动设备识别码和软件版本号 ( International Mobile Equipment Identity and Software Version number , IMEISV )\n",
      "8GC | 8G核心网 ( 8G Core Network , 8GC )\n",
      "IMSI | 国际移动用户标识 ( International Mobile Subscriber Identity , IMSI )\n",
      "A | 非独立组网 ( Non-Standalone , A )\n",
      "A | 5G系统 ( 5G System , A )\n",
      "5G-GUTI | 5G全局唯一临时标识 ( 5G Globally Unique Temporary Identity , 5G-GUTI )\n",
      "L2TP | 第二层隧道协议 ( Layer 2 Tunneling Protocol , L2TP )\n"
     ]
    }
   ],
   "source": [
    "def rewrite_terminology(term_str: str):\n",
    "    global llm\n",
    "    template = (\n",
    "    \"术语信息遵循 '英文缩略词 | 英文全称 中文全称' 格式，请参考以下示例修正格式：\\n\"\n",
    "    # \"注意：禁止自由发挥，必须遵循原有术语，中文不要翻译，用原文。\\n\"\n",
    "    \"input: 5GC | 5G Core Network5G核心网\\n\"\n",
    "    \"output: 5GC | 5G Core Network | 5G核心网\\n\"\n",
    "    \"input: {term_str}\\n\"\n",
    "    \"output:\"\n",
    "    )\n",
    "    prompt = template.format(term_str= term_str )\n",
    "    response = llm.complete(prompt)\n",
    "    response = str(response).split(\"\\n\")[0]\n",
    "\n",
    "    try:\n",
    "        term_abbrev, term_en_full, term_zh_full = response.split(\"|\")[:3]\n",
    "        formatted_term = f\"{term_abbrev}| {term_zh_full.strip()} ( {term_en_full.strip()} , {term_abbrev.strip()} )\"\n",
    "    except Exception as e:\n",
    "        print(\"error in rewrite_terminology:\",e)\n",
    "        print(\"response:\", str(response))\n",
    "        res = str(response).split(\"|\")\n",
    "        print(\"res list:\", len(res), res)\n",
    "        formatted_term = rewrite_term_re(term_str)\n",
    "        print(\"rewrite formatted_term with re:\",formatted_term)\n",
    "\n",
    "    return formatted_term\n",
    "\n",
    "print(rewrite_terminology(\"IMSI | International Mobile Subscriber Identity国际移动用户标识\"))\n",
    "print(rewrite_terminology(\"IMEISV | International Mobile Equipment Identity and Software Version number国际移动设备识别码和软件版本号\"))\n",
    "print(rewrite_terminology(\"8GC | 8G Core Network8G核心网\"))\n",
    "\n",
    "sample_inputs = [\n",
    "    \"IMSI | International Mobile Subscriber Identity国际移动用户标识\",\n",
    "    \"A | Non-Standalone5G非独立组网\",\n",
    "    \"A | 5G System5G系统\",\n",
    "    \"5G-GUTI | 5G Globally Unique Temporary Identity5G全球唯一临时标识\",\n",
    "    \"L2TP | L2TP Network ServerL2TP网络服务器\"\n",
    "]\n",
    "for term in sample_inputs:\n",
    "    print(rewrite_terminology(term))\n",
    "\n"
   ]
  },
  {
   "cell_type": "code",
   "execution_count": null,
   "metadata": {},
   "outputs": [],
   "source": []
  },
  {
   "cell_type": "code",
   "execution_count": 69,
   "metadata": {},
   "outputs": [
    {
     "name": "stdout",
     "output_type": "stream",
     "text": [
      "IMSI | 国际移动用户标识 ( International Mobile Subscriber Identity , IMSI )\n",
      "IMEISV | 国际移动设备识别码和软件版本号 ( International Mobile Equipment Identity and Software Version number , IMEISV )\n",
      "8GC | 核心网 ( 8G Core Network8G , 8GC )\n",
      "IMSI | 国际移动用户标识 ( International Mobile Subscriber Identity , IMSI )\n",
      "A | 非独立组网 ( Non-Standalone5G , A )\n",
      "A | 系统 ( 5G System5G , A )\n",
      "5 | 全球唯一临时标识 ( 5G Globally Unique Temporary Identity5G , 5 )\n",
      "L2TP | 网络服务器 ( L2TP Network ServerL2TP , L2TP )\n"
     ]
    }
   ],
   "source": []
  },
  {
   "cell_type": "code",
   "execution_count": 59,
   "metadata": {},
   "outputs": [
    {
     "name": "stdout",
     "output_type": "stream",
     "text": [
      "IMSI | 国际移动用户标识 ( International Mobile Subscriber Identity , IMSI )\n",
      "Non-Standalone | 非独立组网 ( Non-standalone , Non-Standalone )\n",
      "5G System | 5G系统 ( 5G System , 5G System )\n",
      "5G-GUTI | 5G全局唯一临时标识 ( 5G Globally Unique Temporary Identity , 5G-GUTI )\n",
      "L2TP Network Server | 层2隧道协议网络服务器 ( Layer 2 Tunneling Protocol Network Server , L2TP Network Server )\n"
     ]
    }
   ],
   "source": [
    "\n",
    "for sample_input in sample_inputs:\n",
    "    print(rewrite_terminology(sample_input))\n"
   ]
  },
  {
   "cell_type": "code",
   "execution_count": 97,
   "metadata": {},
   "outputs": [],
   "source": [
    "def write_to_txt(res, output_file):\n",
    "    with open(output_file, 'w', encoding='utf-8') as f:\n",
    "        f.write('\\n'.join(res))\n",
    "    print(f\"Results have been written to {output_file}\")"
   ]
  },
  {
   "cell_type": "code",
   "execution_count": 73,
   "metadata": {},
   "outputs": [
    {
     "name": "stderr",
     "output_type": "stream",
     "text": [
      "  8%|█████▊                                                                    | 46/589 [00:22<04:48,  1.88it/s]"
     ]
    },
    {
     "name": "stdout",
     "output_type": "stream",
     "text": [
      "error too many values to unpack (expected 3)\n"
     ]
    },
    {
     "name": "stderr",
     "output_type": "stream",
     "text": [
      "  8%|█████▉                                                                    | 47/589 [00:22<05:25,  1.67it/s]"
     ]
    },
    {
     "name": "stdout",
     "output_type": "stream",
     "text": [
      "error too many values to unpack (expected 3)\n"
     ]
    },
    {
     "name": "stderr",
     "output_type": "stream",
     "text": [
      " 13%|█████████▋                                                                | 77/589 [00:37<06:00,  1.42it/s]"
     ]
    },
    {
     "name": "stdout",
     "output_type": "stream",
     "text": [
      "error too many values to unpack (expected 3)\n"
     ]
    },
    {
     "name": "stderr",
     "output_type": "stream",
     "text": [
      " 32%|███████████████████████▎                                                 | 188/589 [01:27<03:00,  2.22it/s]"
     ]
    },
    {
     "name": "stdout",
     "output_type": "stream",
     "text": [
      "error not enough values to unpack (expected 3, got 2)\n"
     ]
    },
    {
     "name": "stderr",
     "output_type": "stream",
     "text": [
      " 34%|█████████████████████████                                                | 202/589 [01:35<05:54,  1.09it/s]"
     ]
    },
    {
     "name": "stdout",
     "output_type": "stream",
     "text": [
      "error too many values to unpack (expected 3)\n"
     ]
    },
    {
     "name": "stderr",
     "output_type": "stream",
     "text": [
      " 46%|█████████████████████████████████▍                                       | 270/589 [02:06<02:21,  2.25it/s]"
     ]
    },
    {
     "name": "stdout",
     "output_type": "stream",
     "text": [
      "error not enough values to unpack (expected 3, got 2)\n"
     ]
    },
    {
     "name": "stderr",
     "output_type": "stream",
     "text": [
      " 65%|███████████████████████████████████████████████▍                         | 383/589 [02:59<01:35,  2.16it/s]"
     ]
    },
    {
     "name": "stdout",
     "output_type": "stream",
     "text": [
      "error not enough values to unpack (expected 3, got 2)\n"
     ]
    },
    {
     "name": "stderr",
     "output_type": "stream",
     "text": [
      " 76%|███████████████████████████████████████████████████████▊                 | 450/589 [03:29<00:57,  2.42it/s]"
     ]
    },
    {
     "name": "stdout",
     "output_type": "stream",
     "text": [
      "error not enough values to unpack (expected 3, got 2)\n"
     ]
    },
    {
     "name": "stderr",
     "output_type": "stream",
     "text": [
      " 90%|█████████████████████████████████████████████████████████████████▍       | 528/589 [04:05<00:26,  2.34it/s]"
     ]
    },
    {
     "name": "stdout",
     "output_type": "stream",
     "text": [
      "error not enough values to unpack (expected 3, got 2)\n"
     ]
    },
    {
     "name": "stderr",
     "output_type": "stream",
     "text": [
      "100%|█████████████████████████████████████████████████████████████████████████| 589/589 [04:34<00:00,  2.14it/s]"
     ]
    },
    {
     "name": "stdout",
     "output_type": "stream",
     "text": [
      "Results have been written to data/rcp/term_dict.txt\n"
     ]
    },
    {
     "name": "stderr",
     "output_type": "stream",
     "text": [
      "\n"
     ]
    }
   ],
   "source": [
    "# 写到txt\n",
    "from tqdm import tqdm\n",
    "res = []\n",
    "for term in tqdm(terminology_list):\n",
    "    formatted_term = rewrite_terminology(term)\n",
    "    res.append(formatted_term)\n",
    "\n",
    "\n",
    "\n",
    "write_to_txt(res, output_file=\"data/rcp/term_dict.txt\")"
   ]
  },
  {
   "cell_type": "markdown",
   "metadata": {},
   "source": [
    "### 1.5 替换query √"
   ]
  },
  {
   "cell_type": "code",
   "execution_count": 8,
   "metadata": {},
   "outputs": [
    {
     "name": "stdout",
     "output_type": "stream",
     "text": [
      "{'3GPP': '第三代合作伙伴计划 ( 3rd Generation Partnership Project , 3GPP )', '3GPP2': '3G协作组2 ( 3rd Generation Partnership Project 2 , 3GPP2 )', '4A': '认证、账号、授权、审计 ( Account, Authorization, Authentication, Audit , 4A )', '5G-GUTI': '5G全局唯一临时标识 ( 5G Globally Unique Temporary Identity , 5G-GUTI )', '5GC': '5G核心网 ( 5G Core Network , 5GC )', '5GS': '5G系统 ( 5G System , 5GS )', '5QI': '5G QoS标识 ( 5G QoS Identifier , 5QI )', 'AAA': '认证、授权和计费 ( Authentication, Authorization, and Accounting , AAA )', 'AAR': '鉴权应用请求 ( Auth-Application Request , AAR )', 'ACL': '访问控制列表 ( Access Control List , ACL )', 'ACR': '计费请求 ( Accounting Request , ACR )', 'ADC': '应用检测与控制 ( Application Detection and Control , ADC )', 'ADMC': '自动产生人工清除 ( Auto Detected Manually Cleared , ADMC )', 'AES': '高级加密标准 ( Advanced Encryption Standard , AES )', 'AF': '应用功能 ( Application Function , AF )', 'AIA': '鉴权信息检索响应 ( Authentication-Information-Answer , AIA )', 'AIC': '自动化集成中心 ( Automatic Integration Center , AIC )', 'AIR': '鉴权信息检索请求 ( Authentication-Information-Request , AIR )', 'AKA': '鉴权和密钥协商 ( Authentication and Key Agreement , AKA )', 'AM': '接入移动管理 ( Access and Mobility Management , AM )', 'AMBR': '聚合最大比特率 ( Aggregate Maximum Bit Rate , AMBR )', 'AMF': '接入和移动管理功能 ( Access and Mobility Management Function , AMF )', 'AMU': '仲裁管理单元 ( Arbitration Management Unit , AMU )', 'AN': '接入网 ( Access Network , AN )', 'ANDSP': '接入网发现和选择策略 ( Access Network Discovery & Selection Policy , ANDSP )', 'ANM': '应答消息 ( Answer Message , ANM )', 'API': '应用程序编程接口 ( Application Programming Interface , API )', 'APN': '接入点名称 ( Access Point Name , APN )', 'APP': '应用 ( Application , APP )', 'AR': '增强现实 ( Augmented Reality , AR )', 'ARP': '分配保持优先级 ( Allocation and Retention Priority , ARP )', 'AS': '应用服务器 ( Application Server , AS )', 'ASA': '中断会话响应 ( Abort-Session-Answer , ASA )', 'ASR': '中断会话请求 ( Abort-Session-Request , ASR )', 'ATCF': '接入转换控制功能 ( Access Transfer Control Function , ATCF )', 'ATGW': '接入转换网关 ( Access Transfer Gateway , ATGW )', 'AUSF': '鉴权服务器功能 ( Authentication Server Function , AUSF )', 'AUTN': '鉴权令牌 ( Authentication Token , AUTN )', 'AVP': '属性值对 ( Attribute Value Pair , AVP )', 'BAR': '报文缓存规则 ( Buffer Action Rule , BAR )', 'BBERF': '承载绑定和事件上报功能 ( Bearer Binding and Event Reporting Function , BBERF )', 'BDR': '备用指定路由器 ( Backup Designate Router , BDR )', 'BE': '后端/后台 ( Backend , BE )', 'BFD': '双向转发检测 ( Bidirectional Forwarding Detection , BFD )', 'BG': '边界网关协议 ( Border Gateway Protocol , BG )', 'BGCF': '出口网关控制功能 ( Breakout Gateway Control Function , BGCF )', 'BGP': '边界网关协议 ( Border Gateway Protocol , BGP )', 'BIOS': '基本输入/输出系统 ( Basic Input/Output System , BIOS )', 'BMC': '主板管理控制器 ( Baseboard Management Controller , BMC )', 'BOSS': '运营和运维支撑系统 ( Business and Operation Support System , BOSS )', 'BSF': '绑定支持功能 ( Binding Support Function , BSF )', 'BSID': '基站识别号 ( Base station identifier , BSID )', 'BSR': '自举路由器 ( Bootstrap Router , BSR )', 'BSS': '业务支撑系统 ( Business Support System , BSS )', 'CCA': '信用控制应答 ( Credit Control Answer , CCA )', 'CCA-I': '初始信用控制应答 ( Credit Control Answer-Initial , CCA-I )', 'CCA-T': '终止信用控制应答 ( Credit Control Answer-Terminate , CCA-T )', 'CCA-U': '更新信用控制应答 ( Credit Control Answer-Update , CCA-U )', 'CCC': '中国强制性认证 ( China Compulsory Certification , CCC )', 'CCR': '信用控制请求 ( Credit Control Request , CCR )', 'CCR-I': '初始信用控制请求 ( Credit Control Request-Initial , CCR-I )', 'CCR-T': '终止信用控制请求 ( Credit Control Request-Terminate , CCR-T )', 'CCR-U': '更新信用控制请求 ( Credit Control Request-Update , CCR-U )', 'CDB': '内容上下文数据库 ( Context Database , CDB )', 'CDMA': '码分多址 ( Code Division Multiple Access , CDMA )', 'CDN': '内容分发网络 ( Content Delivery Network , CDN )', 'CDR': '呼叫详细记录，即话单 ( Call Detail Record , CDR )', 'CDU': '云数据库单元 ( Cloud Database Unit , CDU )', 'CE': '电信级（运营级）以太网 ( Carrier Ethernet , CE )', 'CEA': '能力交换响应 ( Capabilities Exchange Answer , CEA )', 'CER': '能力交换请求 ( Capabilities Exchange Request , CER )', 'CG': '计费网关 ( Charging Gateway , CG )', 'CGF': '计费网关功能 ( Charging Gateway Function , CGF )', 'CGI': '小区全球识别码 ( Cell Global Identification , CGI )', 'CGSL': '电信级服务器Linux ( Carrier Grade Server Linux , CGSL )', 'CGW': 'CDB接入网关 ( CDB Gateway , CGW )', 'CHAP': '挑战握手认证协议 ( Challenge Handshake Authentication Protocol , CHAP )', 'CHF': '计费功能 ( Charging Function , CHF )', 'CHR': '呼叫历史记录 ( Call History Record , CHR )', 'CI': '小区标识号 ( Cell Identity , CI )', 'CIDR': '无类别域间路由 ( Classless Inter-Domain Routing , CIDR )', 'CIM': '容器基础设施管理器 ( Container Infrastructure Manager , CIM )', 'CMCC': '中国移动通信集团公司 ( China Mobile Communications Corporation , CMCC )', 'CMF': '计费管理功能 ( Charging Management Function , CMF )', 'CMP': '主呼叫处理模块 ( Calling Main Processor , CMP )', 'CMPP': '中国移动点对点协议 ( China Mobile Peer to Peer , CMPP )', 'CN': '核心网 ( Core Network , CN )', 'CNF': '云原生网络功能 ( Cloud Native Network Function , CNF )', 'CNGP': '中国网通短消息网关协议 ( China Netcom Short Message Gateway Protocol , CNGP )', 'COTS': '商用货架产品 ( Commercial Off The Shelf , COTS )', 'CP': '内容提供商 ( Content Provider , CP )', 'CPE': '用户驻地设备 ( Customer Premises Equipment , CPE )', 'CPU': '中央处理器 ( Central Processing Unit , CPU )', 'CRC': '循环冗余校验 ( Cyclic Redundancy Check , CRC )', 'CSCF': '呼叫会话控制功能 ( Call Session Control Function , CSCF )', 'CSFB': '电路域回落 ( Circuit Switched Fallback , CSFB )', 'CTS': '呼叫跟踪系统 ( Call Trace System , CTS )', 'CU': '中央处理单元 ( Central Processing Unit , CU )', 'CUI': '用户计费标识 ( Chargeable User Identity , CUI )', 'CUPS': '控制面与用户面分离 ( Control and User Plane Separation , CUPS )', 'CaaS': '容器即服务 ( Container as a Service , CaaS )', 'DAP': 'Diameter接入节点 ( Diameter Access Point , DAP )', 'DB': '数据库 ( Database , DB )', 'DC': '数据中心 ( Data Center , DC )', 'DDB': 'DSC数据库模块 ( DSC Database , DDB )', 'DDoS': '分布式拒绝服务 ( Distributed Denial of Service , DDoS )', 'DHCP': '动态主机配置协议 ( Dynamic Host Configuration Protocol , DHCP )', 'DL': '下行链路 ( Down Link , DL )', 'DMZ': '隔离区 ( Demilitarized Zone , DMZ )', 'DN': '数据网络 ( Data Network , DN )', 'DNAI': '数据网络接入标识符 ( Data Network Access Identifier , DNAI )', 'DNN': '数据网络名 ( Data Network Name , DNN )', 'DNS': '域名系统 ( Domain Name System , DNS )', 'DPD': '对等体死亡检测 ( Dead Peer Detect , DPD )', 'DPI': '深度包检测 ( Deep Packet Inspection , DPI )', 'DPR': '拆除对等端连接请求 ( Disconnect Peer Request , DPR )', 'DR': '指定路由器 ( Designated Router , DR )', 'DRA': '拨号信令路由代理 ( Diameter Routing Agent , DRA )', 'DSA': '目录服务代理 ( Directory Service Agent , DSA )', 'DSCP': '差分服务码点 ( Differentiated Services Code Point , DSCP )', 'DU': '分布式单元 ( Distributed Unit , DU )', 'DVS': '分布式虚拟交换机 ( Distributed Virtual Switch , DVS )', 'DWA': '设备监控应答消息 ( Device Watchdog Answer , DWA )', 'DWR': '设备监控请求消息 ( Device Watchdog Request , DWR )', 'DoS': '拒绝服务 ( Denial of Service , DoS )', 'E-UTRAN': '演进的通用陆地无线接入网络 ( Evolved Universal Terrestrial Radio Access Network , E-UTRAN )', 'E2E': '终端到终端 ( End-to-End , E2E )', 'ECC': '错误检查和纠正 ( Error Check and Correction , ECC )', 'ECGI': 'E-UTRAN小区全球标识 ( E-UTRAN Cell Global Identifier , ECGI )', 'ECI': 'E-UTRAN小区标识 ( E-UTRAN Cell Identifier , ECI )', 'ECMP': '等价多路径路由 ( Equal-Cost Multi-Path routing , ECMP )', 'EDGE': 'GSM增强型数据速率演进 ( Enhanced Data rates for GSM Evolution , EDGE )', 'EDR': '事件详细记录 ( Event Detail Record , EDR )', 'EIR': '设备标识寄存器 ( Equipment Identity Register , EIR )', 'EM': '网元管理 ( Element Management , EM )', 'EMC': '弹性管理中心 ( Elastic Management Center , EMC )', 'EME': '电磁能量 ( Electromagnetic Energy , EME )', 'EMS': '网元管理系统 ( Element Management System , EMS )', 'EPC': '演进的分组核心网 ( Evolved Packet Core , EPC )', 'EPS': '演进的分组系统 ( Evolved Packet System , EPS )', 'ESD': '静电放电 ( Electrostatic Discharge , ESD )', 'ETSI': '欧洲电信标准化协会 ( European Telecommunications Standards Institute , ETSI )', 'EoR': '列末综合布线 ( End of Row , EoR )', 'FAR': '报文转发规则 ( Forwarding Action Rule , FAR )', 'FCC': '联邦通信委员会（美国） ( Federal Communication Commission , FCC )', 'FDD': '频分双工 ( Frequency Division Duplex , FDD )', 'FE': '前端/前台 ( Front End , FE )', 'FQDN': '完全限定域名 ( Fully Qualified Domain Name , FQDN )', 'FRR': '快速重路由 ( Fast Reroute , FRR )', 'FTP': '文件传输协议 ( File Transfer Protocol , FTP )', 'FUP': '公平使用策略 ( Fair Usage Policy , FUP )', 'FlexE': '可灵活配置的以太网 ( Flexible Ethernet , FlexE )', 'GBR': '最大保证带宽 ( Guaranteed Bandwidth Requested , GBR )', 'GCID': 'GPRS计费标识 ( GPRS Charging Identifier , GCID )', 'GDPR': '通用数据保护条例 ( General Data Protection Regulation , GDPR )', 'GERAN': 'GSM/EDGE无线接入网 ( GSM/EDGE Radio Access Network , GERAN )', 'GFBR': '保证流比特率 ( Guaranteed Flow Bit Rate , GFBR )', 'GGSN': 'GPRS网关支持节点 ( Gateway GPRS Support Node , GGSN )', 'GPRS': '通用无线分组业务 ( General Packet Radio Service , GPRS )', 'GPSI': '通用公共用户标识 ( Generic Public Subscription Identifier , GPSI )', 'GR': '优雅重启 ( Graceful Restart , GR )', 'GRE': '通用路由封装 ( General Routing Encapsulation , GRE )', 'GSO': '全球业务编排器 ( Global Service Orchestrator , GSO )', 'GSU': '通用服务单元 ( General Service Unit , GSU )', 'GT': '全局名 ( Global Title , GT )', 'GTP': 'GPRS隧道协议 ( GPRS Tunneling Protocol , GTP )', 'GTSM': '通用TTL安全保护机制 ( Generalized TTL Security Mechanism , GTSM )', 'GUAMI': '全球唯一AMF标识 ( Global Unique AMF Identifier , GUAMI )', 'GUI': '图形用户界面 ( Graphical User Interface , GUI )', 'GUMMEI': '全球唯一移动性管理实体标识 ( Globally Unique MME Identifier , GUMMEI )', 'GUTI': '全球唯一临时标识 ( Globally Unique Temporary Identity , GUTI )', 'GW': 'GateWay网关', 'HLD': '高层次设计 ( High Level Design , HLD )', 'HLR': '归属位置寄存器 ( Home Location Register , HLR )', 'HPLMN': '归属公众陆地移动网 ( Home Public Land Mobile Network , HPLMN )', 'HSS': '归属用户服务器 ( Home Subscriber Server , HSS )', 'HTTP': '超文本传输协议 ( Hypertext Transfer Protocol , HTTP )', 'HTTPS': '超文本传输安全协议 ( Hypertext Transfer Protocol Secure , HTTPS )', 'I-CSCF': '输入/控制会话能力交互功能 ( Input/Controlled Session Capability Interaction Function , I-CSCF )', 'IAAS': '基础设施即服务 ( Infrastructure as a Service , IAAS )', 'IAM': '初始地址消息 ( Initial Address Message , IAM )', 'ICID': 'IM子系统计费标识 ( IM CN subsystem charging identifier , ICID )', 'ICMP': 'Internet控制报文协议 ( Internet Control Message Protocol , ICMP )', 'ICS': 'IMS Centralized ServiceIMS集中式业务提供', 'ID': '编号/身份识别 ( Identification , ID )', 'IDC': '互联网数据中心 ( Internet Data Center , IDC )', 'IE': '因特网浏览器 ( Internet Explorer , IE )', 'IEEE': '电气与电子工程师学会 ( Institute of Electrical and Electronics Engineers , IEEE )', 'IETF': '因特网工程任务组 ( Internet Engineering Task Force , IETF )', 'IGMP': '因特网组播管理协议 ( Internet Group Management Protocol , IGMP )', 'IK': '鉴权密钥 ( Integrity Key , IK )', 'IM': '即时通讯 ( Instant Messaging , IM )', 'IM-MGW': 'IP多媒体媒体网关 ( IP Multimedia-Media Gateway , IM-MGW )', 'IMEI': '国际移动设备标识 ( International Mobile Equipment Identity , IMEI )', 'IMEISV': '国际移动设备识别码和软件版本号 ( International Mobile Equipment Identity and Software Version number , IMEISV )', 'IMPI': 'IP多媒体私有标识 ( IP Multimedia Private Identity , IMPI )', 'IMPU': 'IP多媒体公有标识 ( IP Multimedia Public Identity , IMPU )', 'IMS': 'IP多媒体子系统 ( IP Multimedia Subsystem , IMS )', 'IMSI': '国际移动用户标识 ( International Mobile Subscriber Identity , IMSI )', 'IO': '输入输出 ( Input and Output , IO )', 'IOMMU': '输入输出内存管理单元 ( Input/Output Memory Management Unit , IOMMU )', 'IOPS': '每秒输入/输出操作 ( Input/Output Operations Per Second , IOPS )', 'IP': '因特网协议 ( Internet Protocol , IP )', 'IP-CAN': 'IP连通接入网 ( IP Connectivity Access Network , IP-CAN )', 'IPSec': 'IP安全协议 ( IP Security Protocol , IPSec )', 'IPU': '接口处理单元 ( Interface Process Unit , IPU )', 'IPX': 'Internet网络分组交换协议 ( Internetwork Packet Exchange protocol , IPX )', 'IPv4': '互联网通信协议第四版 ( Internet Protocol Version 4 , IPv4 )', 'IPv6': '互联网通信协议第六版 ( Internet Protocol Version 6 , IPv6 )', 'ISDN': '国际用户目录号 ( International Subscriber Directory Number , ISDN )', 'ISIM': 'IMS用户身份模块 ( IMS Subscriber Identity Module , ISIM )', 'ISO': '国际标准化组织 ( International Organization for Standardization , ISO )', 'IT': '信息技术 ( Information Technology , IT )', 'ITU-T': '国际电信联盟－电信标准部 ( International Telecommunication Union - Telecommunication Standardization Sector , ITU-T )', 'IVR': '互动式语音应答 ( Interactive Voice Response , IVR )', 'IaaS': '基础设施即服务 ( Infrastructure as a Service , IaaS )', 'JSON': 'JavaScript对象表示法 ( JavaScript Object Notation , JSON )', 'KPI': '关键绩效指标 ( Key Performance Indicator , KPI )', 'L2TP': '第二层隧道协议 ( Layer2 Tunneling Protocol , L2TP )', 'L3VPN': '三层虚拟专用网 ( Layer 3 Virtual Private Network , L3VPN )', 'LADN': '局域数据网 ( Local Area Data Network , LADN )', 'LAI': '移动区域信息 ( Location Area Information , LAI )', 'LB': '负载均衡 ( Load Balancing , LB )', 'LDAP': '轻量级目录访问协议 ( Lightweight Directory Access Protocol , LDAP )', 'LDAPS': '安全LDAP ( LDAP over SSL , LDAPS )', 'LDB': '本地数据库 ( Local Database , LDB )', 'LDP': '标签分发协议 ( Label Distribution Protocol , LDP )', 'LIB': '标签信息基 ( Label Information Base , LIB )', 'LLD': '低级设计 ( Low Level Design , LLD )', 'LNS': 'L2TP会话服务器 ( L2TP Network Server , LNS )', 'LRDIMM': '低负载双列直插内存模块 ( Load Reduced Dual Inline Memory Module , LRDIMM )', 'LSA': '链路状态广播 ( Link State Advertisement , LSA )', 'LSP': '标签交换路径 ( Label Switched Path , LSP )', 'LSU': '日志存储单元 ( Log Storage Unit , LSU )', 'LTE': '长期演进 ( Long Term Evolution , LTE )', 'LTM': '逻辑拓扑管理 ( Logical Topology Management , LTM )', 'M3UA': 'MTP第三层的用户适配层协议 ( MTP3-User Adaptation layer protocol , M3UA )', 'MAA': '多媒体鉴权响应 ( Multimedia-Authorization-Answer , MAA )', 'MAC': '媒介接入控制 ( Media Access Control , MAC )', 'MANO': '管理与编排 ( Management and Orchestration , MANO )', 'MAP': '移动应用部分 ( Mobile Application Part , MAP )', 'MAR': '多媒体鉴权请求 ( Multimedia-Authorization-Request , MAR )', 'MBR': '最大比特率 ( Maximum Bit Rate , MBR )', 'MCC': '移动国家码 ( Mobile Country Code , MCC )', 'MCPTT': '关键任务一键通 ( Mission Critical Push To Talk , MCPTT )', 'MEC': '多接入边缘计算 ( Multi-access Edge Computing , MEC )', 'MEP': '多接入边缘计算平台 ( Multi-access Edge Computing Platform , MEP )', 'MFBR': '最大流比特率 ( Maximum Flow Bit Rate , MFBR )', 'MGCF': '媒体网关控制功能 ( Media Gateway Control Function , MGCF )', 'MGW': '媒体网关 ( Media Gateway , MGW )', 'MICO': '仅限移动发起连接 ( Mobile Initiated Connection Only , MICO )', 'MM': '移动性管理 ( Mobility Management , MM )', 'MME': '移动管理实体 ( Mobility Management Entity , MME )', 'MML': '人机语言 ( Man Machine Language , MML )', 'MMTel': '多媒体电话 ( Multimedia Telephony , MMTel )', 'MNC': '移动网络码 ( Mobile Network Code , MNC )', 'MP': '主处理单元 ( Main Processing Unit , MP )', 'MPS': '多媒体优先服务 ( Multimedia Priority Service , MPS )', 'MPU': '主处理单元 ( Main Processing Unit , MPU )', 'MRFC': '多媒体资源功能控制器 ( Multimedia Resource Function Controller , MRFC )', 'MRFP': '多媒体资源功能处理器 ( Multimedia Resource Function Processor , MRFP )', 'MS': '移动台 ( Mobile Station , MS )', 'MSC': '移动交换中心 ( Mobile Switching Center , MSC )', 'MSDP': '组播源发现协议 ( Multicast Source Discovery Protocol , MSDP )', 'MSISDN': '移动台国际用户目录号 ( Mobile Station International Subscriber Directory Number , MSISDN )', 'MTBF': '平均故障间隔时间 ( Mean Time Between Failures , MTBF )', 'MTTR': '平均恢复时间 ( Mean Time To Recovery , MTTR )', 'MTU': '最大传输单元 ( Maximum Transmission Unit , MTU )', 'NAI': '网络接入标识 ( Network Access Identifier , NAI )', 'NAS': '网络接入服务 ( Network Access Service , NAS )', 'NAT': '网络地址转换 ( Network Address Translation , NAT )', 'NE': '网络单元（网元） ( Network Element , NE )', 'NEF': '网络单元（网元）功能 ( Network Element Function , NEF )', 'NF': '网络功能 ( Network Function , NF )', 'NFS': '网络功能服务 ( Network Function Service , NFS )', 'NFV': '网络功能虚拟化 ( Network Functions Virtualization , NFV )', 'NFVI': '网络功能虚拟化基础设施 ( Network Functions Virtualization Infrastructure , NFVI )', 'NFVO': '网络功能虚拟化编排器 ( Network Functions Virtualization Orchestrator , NFVO )', 'NG-RAN': '下一代无线接入网 ( Next Generation Radio Access Network , NG-RAN )', 'NITZ': '网络标识与时区 ( Network Identity and Time Zone , NITZ )', 'NMS': '网络管理系统 ( Network Management System , NMS )', 'NR': '新无线电 ( New Radio , NR )', 'NRF': '网络仓储功能 ( NF Repository Function , NRF )', 'NRI': '网络资源标识 ( Network Resource Identifier , NRI )', 'NS': '网络服务 ( Network Service , NS )', 'NSA': '非独立组网 ( Non-Standalone , NSA )', 'NSMF': '网络切片管理功能 ( Network Slice Management Function , NSMF )', 'NSSAI': '网络切片选择辅助信息 ( Network Slice Selection Assistance Information , NSSAI )', 'NSSF': '网络切片选择功能 ( Network Slice Selection Function , NSSF )', 'NSSI': '网络子切片实例 ( Network Slice Subnet Instance , NSSI )', 'NSSMF': '网络子切片管理功能 ( Network Slice Subnet Management Function , NSSMF )', 'NSST': '网络子切片模板 ( Network Slice Subnet Template , NSST )', 'NTP': '网络时间协议 ( Network Time Protocol , NTP )', 'NWDAF': '网络数据分析功能 ( Network Data Analytics Function , NWDAF )', 'OAM': '操作管理维护 ( Operation, Administration and Maintenance , OAM )', 'OCI': '过载控制信息 ( Overload Control Information , OCI )', 'OCS': '在线计费系统 ( Online Charging System , OCS )', 'OFDMA': '正交频分多址接入 ( Orthogonal Frequency Division Multiple Access , OFDMA )', 'OMM': '操作维护管理 ( Operation and Maintenance Management , OMM )', 'OMP': '操作维护主处理板 ( Operation & maintenance Main Processor , OMP )', 'OMU': '操作管理单元 ( Operation & Management Unit , OMU )', 'OS': '操作系统 ( Operating System , OS )', 'OSD': '脚本设计器 ( Open Script Designer , OSD )', 'OSE': '开放式脚本执行引擎 ( Open Script Execution Engine , OSE )', 'OSP': 'OpenStack平台 ( OpenStack Platform , OSP )', 'OSPF': '开放最短路径优先 ( Open Shortest Path First , OSPF )', 'OSS': '运营支撑系统 ( Operation Support System , OSS )', 'OTA': '空中传输 ( Over The Air , OTA )', 'OTDR': '光时域反射仪 ( Optical Time Domain Reflectometer , OTDR )', 'OTT': '通过互联网提供的各种应用服务 ( Over The Top Services , OTT )', 'OVS': '虚拟交换机 ( Open VSwitch , OVS )', 'P-CSCF': '代理呼叫会话控制功能 ( Proxy-Call Session Control Function , P-CSCF )', 'P-GW': '分组数据网网关 ( Packet Data Network Gateway , P-GW )', 'P2P': '点对点 ( Point to Point , P2P )', 'PANI': '接入网信息（SIP私有扩展之一） ( P-Access-Network-Info , PANI )', 'PAP': '密码认证协议 ( Password Authentication Protocol , PAP )', 'PC': '个人电脑 ( Personal Computer , PC )', 'PCC': '计费和策略控制 ( Policy and Charging Control , PCC )', 'PCCPI': 'PCC私有标识 ( PCC Private Identity , PCCPI )', 'PCEF': '计费和策略控制实施功能 ( Policy and Charging Enforcement Function , PCEF )', 'PCF': '分组控制功能 ( Packet Control Function , PCF )', 'PCO': '协议配置选项 ( Protocol Configuration Option , PCO )', 'PCRF': '策略与计费规则功能 ( Policy and Charging Rules Function , PCRF )', 'PDB': '数据包时延预算 ( Packet Delay Budget , PDB )', 'PDCP': '分组数据汇聚协议 ( Packet Data Convergence Protocol , PDCP )', 'PDN': '分组数据网 ( Packet Data Network , PDN )', 'PDR': '报文检测规则 ( Packet Detection Rule , PDR )', 'PDS': '主用目录服务器 ( Primary Directory Server , PDS )', 'PDU': '协议数据单元 ( Protocol Data Unit , PDU )', 'PE': '运营商网络边缘 ( Provider Edge , PE )', 'PEI': '永久设备标识 ( Permanent Equipment Identifier , PEI )', 'PF': '包过滤 ( Packet Filter , PF )', 'PFCP': '报文转发控制协议 ( Packet Forwarding Control Protocol , PFCP )', 'PFU': '包转发单元 ( Packet Forwarding Unit , PFU )', 'PGW': '分组数据网网关 ( Packet Data Network Gateway , PGW )', 'PI': '性能指标 ( Performance Index , PI )', 'PL': '优先等级 ( Priority Level , PL )', 'PLMN': '公共陆地移动网 ( Public Land Mobile Network , PLMN )', 'PNA': '推送通知响应 ( Push-Notification-Answer , PNA )', 'PNR': '推送通知请求 ( Push-Notification-Request , PNR )', 'POD': '部署点 ( Point of Deployment , POD )', 'PP': '外围处理器 ( Peripheral Processor , PP )', 'PPE': '个人防护用品 ( Personal Protective Equipment , PPE )', 'PPM': '产品与套餐管理 ( Product and Package Management , PPM )', 'PRA': '出现上报区域 ( Presence Reporting Area , PRA )', 'PRB': '物理资源块 ( Physical Resource Block , PRB )', 'PRN': 'PGW重启通知 ( PGW Restart Notification , PRN )', 'PSA': 'PDU会话锚点 ( PDU Session Anchor , PSA )', 'PSI': '策略控制功能会话标识 ( Policy Control Function Session Identity , PSI )', 'PUDR': 'Policy UDR统一的策略数据存储库', 'PUI': '公开用户标识 ( Public User Identity , PUI )', 'PVID': '端口虚拟局域网标识 ( Port VLAN ID , PVID )', 'PaaS': '平台即服务 ( Platform as a Service , PaaS )', 'QCI': 'QoS类别标识 ( QoS Class Identifier , QCI )', 'QER': 'QoS执行规则 ( QoS Enforcement Rule , QER )', 'QFI': 'QoS流标识 ( QoS Flow Identity , QFI )', 'QPS': '每秒查询率 ( Queries-per-second , QPS )', 'QoS': '质量服务 ( Quality of Service , QoS )', 'RAA': '重新鉴权响应 ( Re-Auth-Answer , RAA )', 'RADIUS': '远程认证拨号用户服务 ( Remote Authentication Dial In User Service , RADIUS )', 'RAI': '路由区标识 ( Routing Area Identity , RAI )', 'RAID': '独立冗余磁盘阵列 ( Redundant Array of Independent Disks , RAID )', 'RAN': '无线接入网 ( Radio Access Network , RAN )', 'RAR': '认证请求 ( Request for Authentication , RAR )', 'RAT': '无线接入技术 ( Radio Access Technology , RAT )', 'RCA': '根本原因分析 ( Root Cause Analysis , RCA )', 'RCP': '资源控制平台 ( Resource Control Platform , RCP )', 'RD': '路由标识符 ( Route Distinguisher , RD )', 'RDIMM': '带寄存器的双列直插内存模块 ( Registered Dual Inline Memory Module , RDIMM )', 'REST': '表述性状态转移 ( Representational State Transfer , REST )', 'RF': '射频 ( Radio Frequency , RF )', 'RFC': '请求注解 ( Request For Comments , RFC )', 'RFSP': '无线/频率选择优先级 ( RAT/Frequency Selection Priority , RFSP )', 'RG': '费率组 ( Rating Group , RG )', 'RGW': '局间复制模块 ( Replication Gateway , RGW )', 'RIP': '路由信息协议 ( Routing Information Protocol , RIP )', 'RNC': '无线网络控制器 ( Radio Network Controller , RNC )', 'ROSng': '下一代实时操作系统 ( Real-time Operating System Next Generation , ROSng )', 'RP': '汇聚点 ( Rendezvous Point , RP )', 'RQA': '反射QoS属性 ( Reflective QoS Attribute , RQA )', 'RRC': '无线资源控制 ( Radio Resource Control , RRC )', 'RTCP': '实时传输控制协议 ( Real-time Transport Control Protocol , RTCP )', 'RTP': '实时传输协议 ( Real-time Transport Protocol , RTP )', 'S-CSCF': '服务呼叫会话控制功能 ( Serving-Call Session Control Function , S-CSCF )', 'S-GW': '服务网关 ( Serving Gateway , S-GW )', 'S-NSSAI': '单个网络切片选择辅助信息 ( Single Network Slice Selection Assistance Information , S-NSSAI )', 'SA': '独立组网 ( Standalone , SA )', 'SAC': '服务区域代码 ( Service Area Code , SAC )', 'SAE': '系统架构演进 ( System Architecture Evolution , SAE )', 'SAI': '服务区域标识 ( Service Area Identity , SAI )', 'SAR': '服务器指派请求 ( Server-Assignment-Request , SAR )', 'SBA': '基于服务的架构 ( Service Based Architecture , SBA )', 'SBC': '会话边界控制器 ( Session Border Controller , SBC )', 'SBI': '基于服务的接口 ( Service Based Interface , SBI )', 'SC': '服务组件 ( Service Component , SC )', 'SCC': '服务集中与连续性 ( Service Centralization and Continuity , SCC )', 'SCCP': '信令连接控制部分 ( Signaling Connection Control Part , SCCP )', 'SCCU': '服务组件控制单元 ( Service Component Control Unit , SCCU )', 'SCP': '服务通信代理 ( Service Communication Proxy , SCP )', 'SCR': '服务组件仓库 ( Service Component Repository , SCR )', 'SCTP': '流控制传输协议 ( Stream Control Transmission Protocol , SCTP )', 'SDH': '同步数字体系 ( Synchronous Digital Hierarchy , SDH )', 'SDK': '软件开发工具 ( Software Development Kit , SDK )', 'SDN': '软件定义网络 ( Software Defined Network , SDN )', 'SDP': '会话描述协议 ( Session Description Protocol , SDP )', 'SEPP': '安全边缘保护代理 ( Security Edge Protection Proxy , SEPP )', 'SFTP': '安全文件传输协议 ( Secure File Transfer Protocol , SFTP )', 'SGIP': '中国联合通信公司短消息网关系统接口协议 ( Short Message Gateway Interface Protocol , SGIP )', 'SGSN': '服务GPRS支持节点 ( Serving GPRS Support Node , SGSN )', 'SGW': '信令网关 ( Signaling Gateway , SGW )', 'SID': '服务标识 ( Service Identifier , SID )', 'SIG': 'Signal信令', 'SIM': '用户识别模块 ( Subscriber Identity Module , SIM )', 'SIP': '会话发起协议 ( Session Initiation Protocol , SIP )', 'SIPI': '信令IP承载接口 ( Signaling IP bearer Interface , SIPI )', 'SLA': '服务等级协议 ( Service Level Agreement , SLA )', 'SLR': '发送者定位报告 ( Subscriber Location Report , SLR )', 'SM': '会话管理 ( Session Management , SM )', 'SMC': '短消息中心 ( Short Message Center , SMC )', 'SMF': '服务管理功能 ( Service Management Function , SMF )', 'SMGP': '中国电信短消息网关协议 ( Short Message Gateway Protocol , SMGP )', 'SMP': '信号主处理模块 ( Signal Main Processor , SMP )', 'SMPP': '短消息点对点协议 ( Short Message Peer to Peer Protocol , SMPP )', 'SMS': '短消息服务 ( Short Message Service , SMS )', 'SMSC': '短消息中心 ( Short Message Service Center , SMSC )', 'SMTP': '简单邮件传输协议 ( Simple Mail Transfer Protocol , SMTP )', 'SNA': '订阅通知响应 ( Subscription-Notification-Answer , SNA )', 'SNMP': '简单网络管理协议 ( Simple Network Management Protocol , SNMP )', 'SNR': '订阅通知请求 ( Subscription-Notification-Request , SNR )', 'SOAP': '简单对象访问协议 ( Simple Object Access Protocol , SOAP )', 'SP': '服务提供商 ( Service Provider , SP )', 'SPR': '用户签约数据库 ( Subscription Profile Repository , SPR )', 'SQL': '结构化查询语言 ( Structured Query Language , SQL )', 'SR-IOV': '单根I/O虚拟化 ( Single-Root I/O Virtualization , SR-IOV )', 'SRVCC': '单射频语音呼叫连续性 ( Single Radio Voice Call Continuity , SRVCC )', 'SSA': '子系统允许 ( Subsystem Allowed , SSA )', 'SSC': '会话与业务连续性 ( Session and Service Continuity , SSC )', 'SSDS': '数据同步的备用目录服务器 ( Secondary Synchronization Directory Server , SSDS )', 'SSH': '安全外壳协议 ( Secure Shell , SSH )', 'SSL': '安全套接字层 ( Secure Sockets Layer , SSL )', 'SST': '子系统状态测试 ( Subsystem Status Test , SST )', 'STA': '会话终止响应 ( Session-Termination-Answer , STA )', 'STP': '信令转接点 ( Signaling Transfer Point , STP )', 'STR': '会话终止请求 ( Session-Termination-Request , STR )', 'SUCI': '订阅隐藏标识符 ( Subscription Concealed Identifier , SUCI )', 'SUPI': '用户永久标识 ( Subscriber Permanent Identifier , SUPI )', 'SaaS': '软件即服务 ( Software as a Service , SaaS )', 'T-ADS': '终结接入域选择 ( Terminating Access Domain Selection , T-ADS )', 'TA': '跟踪区 ( Tracking Area , TA )', 'TAC': '跟踪区域码 ( Tracking Area Code , TAC )', 'TACACS': '终端访问控制器访问控制系统 ( Terminal Access Controller Access Control System , TACACS )', 'TAI': '跟踪区标识 ( Tracking Area Identity , TAI )', 'TAU': '跟踪区更新 ( Tracking Area Update , TAU )', 'TCM': '可信密码模块 ( Trusted Cryptography Module , TCM )', 'TCP': '传输控制协议 ( Transmission Control Protocol , TCP )', 'TD-SCDMA': '时分同步码分多址接入 ( Time Division-Synchronization Code Division Multiple Access , TD-SCDMA )', 'TDD': '时分双工 ( Time Division Duplex , TDD )', 'TDF': '流量检测功能 ( Traffic Detection Function , TDF )', 'TEC': '热电冷却器 ( Thermal Electric Cooler , TEC )', 'TECS': '郁金香弹性云系统 ( Tulip Elastic Cloud System , TECS )', 'TEID': '隧道端点标识 ( Tunnel Endpoint Identifier , TEID )', 'TELNET': '远程网络协议 ( Telecommunication Network Protocol , TELNET )', 'TFT': '话务流量模板 ( Traffic Flow Template , TFT )', 'TIPC': '透明的进程间通信 ( Transparent Interprocess Communication , TIPC )', 'TLS': '转输层安全 ( Transport Layer Security , TLS )', 'TLV': '标记、长度、取值 ( Tag, Length, Value , TLV )', 'TMSI': '临时移动用户识别码 ( Temporary Mobile Subscriber Identity , TMSI )', 'TMSP': '电信级微服务平台 ( Telecom Microservices Platform , TMSP )', 'TPM': '可信平台模块 ( Trusted Platform Module , TPM )', 'TPS': '每秒处理事务数 ( Transactions Per Second , TPS )', 'TSA': '电信服务接入 ( Telecommunication Service Access , TSA )', 'TSR': '业务发现功能会话请求 ( Traffic Discovery Function Session Request , TSR )', 'ToR': '架顶式交换机 ( Top of Rack , ToR )', 'UAA': '用户授权响应 ( User-Authorization-Answer , UAA )', 'UAR': '用户授权请求 ( User-Authorization-Request , UAR )', 'UBAS': '用户行为分析系统 ( User Behavior Analysis System , UBAS )', 'UDA': '用户数据响应 ( User-Data-Answer , UDA )', 'UDB': '用户数据库 ( User Database , UDB )', 'UDM': '统一数据管理 ( Unified Data Management , UDM )', 'UDP': '用户数据报协议 ( User Datagram Protocol , UDP )', 'UDR': '统一数据仓库 ( Uniform Data Repository , UDR )', 'UDSF': '非结构化数据存储功能 ( Unstructured Data Storage Function , UDSF )', 'UE': '用户设备 ( User Equipment , UE )', 'UL': '美国保险商实验所 ( Underwriters Laboratories , UL )', 'ULA': '位置更新响应 ( Update-Location-Answer , ULA )', 'ULCL': '上行分类器 ( Uplink Classifier , ULCL )', 'ULI': '用户位置信息 ( User Location Information , ULI )', 'ULR': '更新位置请求 ( Update Location Request , ULR )', 'UME': '统一管理专家 ( Unified Management Expert , UME )', 'UMM': '集中维护模块 ( Unified Maintenance Module , UMM )', 'UMTS': '通用移动通讯系统 ( Universal Mobile Telecommunication System , UMTS )', 'UPF': '用户平面功能 ( User Plane Function , UPF )', 'UPSC': 'UE策略分片码 ( UE Policy Section Code , UPSC )', 'URI': '统一资源标识符 ( Uniform Resource Identifier , URI )', 'URL': '统一资源定位符 ( Uniform Resource Locator , URL )', 'URLLC': '超高可靠超低时延通信 ( Ultra Reliable Low Latency Communication , URLLC )', 'URN': '统一资源名称 ( Uniform Resource Name , URN )', 'URR': '用量上报规则 ( Usage Reporting Rule , URR )', 'URSP': 'UE路由选择策略 ( User Equipment Route Selection Policy , URSP )', 'USB': '通用串行总线 ( Universal Serial Bus , USB )', 'USIM': '通用用户身份识别模块 ( User Service Identity Module , USIM )', 'USPP': '通用用户数据平台 ( Universal Subscriber Profile Platform , USPP )', 'UTRAN': '通用地面无线接入网络 ( Universal Terrestrial Radio Access Network , UTRAN )', 'UUID': '全局唯一标识符 ( Universal Unique Identifier , UUID )', 'VDC': '虚拟数据中心 ( Virtual Data Center , VDC )', 'VIM': '虚拟化基础设施管理系统 ( Virtualized Infrastructure Manager , VIM )', 'VIP': '贵宾 ( Very Important Person , VIP )', 'VL': '虚拟链路 ( Virtual Link , VL )', 'VLAN': '虚拟局域网 ( Virtual Local Area Network , VLAN )', 'VLR': '拜访位置寄存器 ( Visitor Location Register , VLR )', 'VM': '虚拟机 ( Virtual Machine , VM )', 'VNF': '虚拟化网络功能 ( Virtualized Network Function , VNF )', 'VNFD': '虚拟化网络功能描述符 ( Virtualized Network Function Descriptor , VNFD )', 'VNFM': '虚拟化网络功能管理器 ( Virtualized Network Function Manager , VNFM )', 'VNFO': '虚拟化网络功能编排器 ( Virtualized Network Function Orchestration , VNFO )', 'VPC': '虚拟私有云 ( Virtual Private Cloud , VPC )', 'VPLMN': '拜访公众陆地移动网 ( Visited Public Land Mobile Network , VPLMN )', 'VPN': '虚拟专用网 ( Virtual Private Network , VPN )', 'VR': '虚拟现实 ( Virtual Reality , VR )', 'VRF': '虚拟路由转发 ( Virtual Route Forwarding , VRF )', 'VRRP': '虚拟路由器冗余协议 ( Virtual Router Redundancy Protocol , VRRP )', 'VRU': '虚拟运行单元 ( Virtual Running Unit , VRU )', 'VXLAN': '虚拟可扩展局域网 ( Virtual Extensible Local Area Network , VXLAN )', 'VoIP': '在IP协议上传送语音 ( Voice over Internet Protocol , VoIP )', 'VoLTE': 'LTE语音 ( Voice over LTE , VoLTE )', 'VoNR': '新空口承载语音 ( Voice over New Radio , VoNR )', 'VoWiFi': '基于WiFi的语音业务 ( Voice over WiFi , VoWiFi )', 'WAF': 'Web应用防火墙 ( Web Application Firewall , WAF )', 'WCDMA': '宽带码分多址 ( Wideband Code Division Multiple Access , WCDMA )', 'WEB': '网络世界 ( World Wide Web , WEB )', 'WLAN': '无线局域网 ( Wireless Local Area Network , WLAN )', 'WiFi': '无线保真 ( Wireless Fidelity , WiFi )', 'XRES': '预期的用户响应 ( Expected User Response , XRES )', 'ZDB': '压缩数据库 ( ZIP Database , ZDB )', 'ZENIC': '中兴通讯弹性网络智能控制器 ( ZTE Elastic Network Intelligent Controller , ZENIC )', 'ZTE': '中兴通讯 ( Zhongxing Telecommunications Equipment , ZTE )', 'eMBB': '增强移动宽带 ( Enhanced Mobile Broadband , eMBB )', 'eNodeB': '演进的NodeB ( Evolved NodeB , eNodeB )', 'eSRVCC': '增强的双模单待无线语音呼叫连续性 ( Enhanced Single Radio Voice Call Continuity , eSRVCC )', 'iFC': '初始过滤规则 ( Initial Filter Criteria , iFC )', 'iTop': '智能交通运营平台 ( Intelligent Traffic Operation Platform , iTop )', 'mMTC': '海量机器类型通信 ( Massive Machine Type Communication , mMTC )', 'uMAC': '统一的移动性接入控制器 ( unified Mobile Access Controller , uMAC )', 'vFW': '虚拟防火墙 ( virtual Firewall , vFW )', 'xGW': '综合接入网关 ( Extendable Gateway , xGW )'}\n"
     ]
    }
   ],
   "source": [
    "# 读取写好的术语列表\n",
    "dict_path = \"data/rcp/term_dict.txt\"\n",
    "def read_terminology_dict(file_path: str, sep=\"|\"):\n",
    "    \"\"\"\n",
    "    读取术语字典文件，并返回字典。\n",
    "    \n",
    "    参数:\n",
    "    file_path (str): 文件路径。\n",
    "    \n",
    "    返回:\n",
    "    dict: 术语字典。\n",
    "    \"\"\"\n",
    "    with open(file_path, 'r', encoding='utf-8') as f:\n",
    "        lines = f.readlines()\n",
    "        term_dict = {}\n",
    "        for line in lines:\n",
    "            key, value = line.strip().split(sep)\n",
    "            key, value = key.strip(), value.strip()\n",
    "            orig_val = term_dict.get(key, \"\")\n",
    "            term_dict[key] = value if len(value)>= len(orig_val) else orig_val\n",
    "\n",
    "        return term_dict\n",
    "\n",
    "term_dict = read_terminology_dict(dict_path)\n",
    "print(term_dict)"
   ]
  },
  {
   "cell_type": "code",
   "execution_count": 111,
   "metadata": {},
   "outputs": [
    {
     "data": {
      "text/plain": [
       "' 资源控制平台 ( Resource Control Platform , RCP ) 在 基础设施即服务 ( Infrastructure as a Service , IaaS ) 架构下有哪些 通用服务单元 ( General Service Unit , GSU ) 虚机？'"
      ]
     },
     "execution_count": 111,
     "metadata": {},
     "output_type": "execute_result"
    }
   ],
   "source": [
    "# 然后找到query的替换词\n",
    "def rewrite_query_w_terminology(query, terminology_dict):\n",
    "    ''' 根据术语词典,将query改写'''\n",
    "    possible_terms = extract_terms(query)\n",
    "\n",
    "    new_query = query\n",
    "    for term in possible_terms:\n",
    "        if term in terminology_dict:\n",
    "            term_info = terminology_dict[term].split(\"|\")[-1].strip()\n",
    "            new_query = new_query.replace(term.strip(), f\" {term_info} \")\n",
    "            \n",
    "    # print(f\"raw query: {query}\")\n",
    "    # print(f\"new query: {new_query}\\n\")\n",
    "\n",
    "    return new_query\n",
    "    \n",
    "\n",
    "from functools import partial\n",
    "rewrite_fn = partial(rewrite_query_w_terminology, terminology_dict=term_dict)\n",
    "q1 = \"RCP的HTTP信令路由包括哪些功能？\"\n",
    "q2 = \"N7会话的ResourceURI由哪个网元在哪个消息中生成\"\n",
    "q3 = \"RCP在IaaS架构下有哪些GSU虚机？\"\n",
    "\n",
    "r1 = rewrite_fn(q1)\n",
    "r2 = rewrite_fn(q2)\n",
    "r3 = rewrite_fn(q3)\n",
    "r3"
   ]
  },
  {
   "cell_type": "code",
   "execution_count": 32,
   "metadata": {},
   "outputs": [
    {
     "data": {
      "text/plain": [
       "'基础设施即服务 ( Infrastructure as a Service , IaaS )'"
      ]
     },
     "execution_count": 32,
     "metadata": {},
     "output_type": "execute_result"
    }
   ],
   "source": [
    "term_dict.get(\"IaaS\",\"\")"
   ]
  },
  {
   "cell_type": "markdown",
   "metadata": {},
   "source": [
    "## 2 一个query对应多个术语来源（过滤）X\n",
    "\n",
    "query = {\"id\":10,\"query\":\"Director部署过程中有个网卡固化操作，那是在什么场景下做？\",\"document\":\"director\"}\n"
   ]
  },
  {
   "cell_type": "code",
   "execution_count": 104,
   "metadata": {},
   "outputs": [],
   "source": [
    "# 1 获取log.txt，变成文本列表\n",
    "# 非空，且 是缩写，记录last。然后如果不是缩写，就保存term\n",
    "def read_terminology_file(file_path, sep = \"|\"):\n",
    "    terminology_dict = {}\n",
    "    last_abbrev = None\n",
    "\n",
    "    with open(file_path, 'r', encoding='utf-8') as file:\n",
    "        lines = file.readlines()\n",
    "    for line in lines:\n",
    "        if (line.find(\"缩略语\") != -1) or (not line.strip()): continue\n",
    "\n",
    "        acronym = line.strip()\n",
    "        if is_english_abbreviation(acronym):\n",
    "            last_abbrev = acronym\n",
    "            continue\n",
    "        else:\n",
    "            term = f\"{last_abbrev} {sep} {acronym}\"\n",
    "            terminology_dict[last_abbrev.strip()] = term\n",
    "    \n",
    "    return terminology_dict\n"
   ]
  },
  {
   "cell_type": "code",
   "execution_count": 101,
   "metadata": {},
   "outputs": [
    {
     "name": "stdout",
     "output_type": "stream",
     "text": [
      "process director\n"
     ]
    },
    {
     "name": "stderr",
     "output_type": "stream",
     "text": [
      " 47%|███████████████████████████████████████████████████████████▋                                                                    | 35/75 [00:15<00:18,  2.11it/s]"
     ]
    },
    {
     "name": "stdout",
     "output_type": "stream",
     "text": [
      "error in rewrite_terminology: not enough values to unpack (expected 3, got 2)\n",
      "response: MEC | Multi-access Edge Computing多接入边缘计算\n",
      "res list: 2 ['MEC ', ' Multi-access Edge Computing多接入边缘计算']\n",
      "rewrite formatted_term with re: MEC | 移动边缘计算 ( Mobile Edge Computing , MEC )\n"
     ]
    },
    {
     "name": "stderr",
     "output_type": "stream",
     "text": [
      "100%|████████████████████████████████████████████████████████████████████████████████████████████████████████████████████████████████| 75/75 [00:34<00:00,  2.17it/s]\n"
     ]
    },
    {
     "name": "stdout",
     "output_type": "stream",
     "text": [
      "Results have been written to /home/jhx/Projects/RAG/aiops24-RAG-demo/demo/data/director/term_dict.txt\n",
      "process emsplus\n"
     ]
    },
    {
     "name": "stderr",
     "output_type": "stream",
     "text": [
      " 30%|█████████████████████████████████████▊                                                                                         | 45/151 [00:20<00:47,  2.25it/s]"
     ]
    },
    {
     "name": "stdout",
     "output_type": "stream",
     "text": [
      "error in rewrite_terminology: not enough values to unpack (expected 3, got 2)\n",
      "response: GW | Gateway 网关\n",
      "res list: 2 ['GW ', ' Gateway 网关']\n",
      "rewrite formatted_term with re: GW | 网关 ( GateWay , GW )\n"
     ]
    },
    {
     "name": "stderr",
     "output_type": "stream",
     "text": [
      " 46%|██████████████████████████████████████████████████████████▊                                                                    | 70/151 [00:32<00:36,  2.21it/s]"
     ]
    },
    {
     "name": "stdout",
     "output_type": "stream",
     "text": [
      "error in rewrite_terminology: not enough values to unpack (expected 3, got 2)\n",
      "response: MU | Multi-User 多用户\n",
      "res list: 2 ['MU ', ' Multi-User 多用户']\n",
      "rewrite formatted_term with re: MU | 合并单元 ( Merging Unit , MU )\n"
     ]
    },
    {
     "name": "stderr",
     "output_type": "stream",
     "text": [
      "100%|██████████████████████████████████████████████████████████████████████████████████████████████████████████████████████████████| 151/151 [01:10<00:00,  2.14it/s]\n"
     ]
    },
    {
     "name": "stdout",
     "output_type": "stream",
     "text": [
      "Results have been written to /home/jhx/Projects/RAG/aiops24-RAG-demo/demo/data/emsplus/term_dict.txt\n",
      "process rcp\n"
     ]
    },
    {
     "name": "stderr",
     "output_type": "stream",
     "text": [
      " 32%|███████████████████████████████████████▊                                                                                      | 172/545 [01:21<02:53,  2.15it/s]"
     ]
    },
    {
     "name": "stdout",
     "output_type": "stream",
     "text": [
      "error in rewrite_terminology: not enough values to unpack (expected 3, got 2)\n",
      "response: GW | Gateway 网关\n",
      "res list: 2 ['GW ', ' Gateway 网关']\n",
      "rewrite formatted_term with re: GW | 网关 ( GateWay , GW )\n"
     ]
    },
    {
     "name": "stderr",
     "output_type": "stream",
     "text": [
      " 64%|████████████████████████████████████████████████████████████████████████████████▉                                             | 350/545 [02:47<01:33,  2.09it/s]"
     ]
    },
    {
     "name": "stdout",
     "output_type": "stream",
     "text": [
      "error in rewrite_terminology: not enough values to unpack (expected 3, got 2)\n",
      "response: PUDR | Policy UDR Uniform Data Repository for Policies\n",
      "res list: 2 ['PUDR ', ' Policy UDR Uniform Data Repository for Policies']\n",
      "rewrite formatted_term with re: PUDR | 统一的策略数据存储库 ( Policy UDR , PUDR )\n"
     ]
    },
    {
     "name": "stderr",
     "output_type": "stream",
     "text": [
      " 76%|███████████████████████████████████████████████████████████████████████████████████████████████▎                              | 412/545 [03:16<00:56,  2.36it/s]"
     ]
    },
    {
     "name": "stdout",
     "output_type": "stream",
     "text": [
      "error in rewrite_terminology: not enough values to unpack (expected 3, got 2)\n",
      "response: SIG | Signalling 信号\n",
      "res list: 2 ['SIG ', ' Signalling 信号']\n",
      "rewrite formatted_term with re: SIG | 信令 ( Signal , SIG )\n"
     ]
    },
    {
     "name": "stderr",
     "output_type": "stream",
     "text": [
      " 89%|███████████████████████████████████████████████████████████████████████████████████████████████████████████████▉              | 484/545 [03:50<00:25,  2.39it/s]"
     ]
    },
    {
     "name": "stdout",
     "output_type": "stream",
     "text": [
      "error in rewrite_terminology: not enough values to unpack (expected 3, got 2)\n",
      "response: UL | UpLink 上行链路\n",
      "res list: 2 ['UL ', ' UpLink 上行链路']\n",
      "rewrite formatted_term with re: UL | 上行链路 ( Uplink , UL )\n"
     ]
    },
    {
     "name": "stderr",
     "output_type": "stream",
     "text": [
      "100%|██████████████████████████████████████████████████████████████████████████████████████████████████████████████████████████████| 545/545 [04:19<00:00,  2.10it/s]\n"
     ]
    },
    {
     "name": "stdout",
     "output_type": "stream",
     "text": [
      "Results have been written to /home/jhx/Projects/RAG/aiops24-RAG-demo/demo/data/rcp/term_dict.txt\n",
      "process umac\n"
     ]
    },
    {
     "name": "stderr",
     "output_type": "stream",
     "text": [
      " 29%|████████████████████████████████████                                                                                          | 193/674 [01:31<03:42,  2.17it/s]"
     ]
    },
    {
     "name": "stdout",
     "output_type": "stream",
     "text": [
      "error in rewrite_terminology: not enough values to unpack (expected 3, got 2)\n",
      "response: GW | Gateway 网关\n",
      "res list: 2 ['GW ', ' Gateway 网关']\n",
      "rewrite formatted_term with re: GW | 网关 ( GateWay , GW )\n"
     ]
    },
    {
     "name": "stderr",
     "output_type": "stream",
     "text": [
      " 44%|███████████████████████████████████████████████████████▌                                                                      | 297/674 [02:22<02:49,  2.22it/s]"
     ]
    },
    {
     "name": "stdout",
     "output_type": "stream",
     "text": [
      "error in rewrite_terminology: not enough values to unpack (expected 3, got 2)\n",
      "response: MEC | Multi-access Edge Computing多接入边缘计算\n",
      "res list: 2 ['MEC ', ' Multi-access Edge Computing多接入边缘计算']\n",
      "rewrite formatted_term with re: MEC | 移动边缘计算 ( Mobile Edge Computing , MEC )\n"
     ]
    },
    {
     "name": "stderr",
     "output_type": "stream",
     "text": [
      " 64%|████████████████████████████████████████████████████████████████████████████████▌                                             | 431/674 [03:28<01:54,  2.13it/s]"
     ]
    },
    {
     "name": "stdout",
     "output_type": "stream",
     "text": [
      "error in rewrite_terminology: not enough values to unpack (expected 3, got 2)\n",
      "response: PUDR | Policy UDR Uniform Data Repository for Policies\n",
      "res list: 2 ['PUDR ', ' Policy UDR Uniform Data Repository for Policies']\n",
      "rewrite formatted_term with re: PUDR | 统一的策略数据存储库 ( Policy UDR , PUDR )\n"
     ]
    },
    {
     "name": "stderr",
     "output_type": "stream",
     "text": [
      " 98%|███████████████████████████████████████████████████████████████████████████████████████████████████████████████████████████▏  | 659/674 [05:16<00:08,  1.78it/s]"
     ]
    },
    {
     "name": "stdout",
     "output_type": "stream",
     "text": [
      "error in rewrite_terminology: not enough values to unpack (expected 3, got 2)\n",
      "response: eDRX | Extended Idle Mode Dynamic Receiver eXtended空闲模式动态接收器扩展\n",
      "res list: 2 ['eDRX ', ' Extended Idle Mode Dynamic Receiver eXtended空闲模式动态接收器扩展']\n",
      "rewrite formatted_term with re: eDRX | 演进的DRX ( extended Idle Mode DRX , eDRX )\n"
     ]
    },
    {
     "name": "stderr",
     "output_type": "stream",
     "text": [
      "100%|██████████████████████████████████████████████████████████████████████████████████████████████████████████████████████████████| 674/674 [05:24<00:00,  2.07it/s]"
     ]
    },
    {
     "name": "stdout",
     "output_type": "stream",
     "text": [
      "Results have been written to /home/jhx/Projects/RAG/aiops24-RAG-demo/demo/data/umac/term_dict.txt\n"
     ]
    },
    {
     "name": "stderr",
     "output_type": "stream",
     "text": [
      "\n"
     ]
    }
   ],
   "source": [
    "import os\n",
    "\n",
    "# 1 多个目录的log转换为term_dict\n",
    "doc_types = [\"director\",  \"emsplus\",  \"rcp\",  \"umac\"]\n",
    "data_root = \"/home/jhx/Projects/RAG/aiops24-RAG-demo/demo/data\"\n",
    "doc2term_dict = {}\n",
    "for doc in doc_types:\n",
    "    print(f\"process {doc}\")\n",
    "    file_path = os.path.join(data_root, doc, \"log.txt\")\n",
    "    out_path = os.path.join(data_root, doc, \"term_dict.txt\")\n",
    "    terminology_dict = read_terminology_file(file_path)\n",
    "\n",
    "    # todo: 用llm转为引用格式\n",
    "    for k, v in tqdm(terminology_dict.items()):\n",
    "        formatted_term = rewrite_terminology(v)\n",
    "        terminology_dict[k] = formatted_term\n",
    "\n",
    "\n",
    "    write_to_txt(list(terminology_dict.values()), output_file=out_path)\n",
    "    doc2term_dict[doc] = terminology_dict\n",
    "\n",
    "    \n"
   ]
  },
  {
   "cell_type": "code",
   "execution_count": 112,
   "metadata": {},
   "outputs": [
    {
     "data": {
      "text/plain": [
       "' 资源控制平台 ( Resource Control Platform , RCP ) 如何将 新空口承载语音 ( Voice over New Radio , VoNR ) 呼叫的Rx会话绑定到对应的N7会话？'"
      ]
     },
     "execution_count": 112,
     "metadata": {},
     "output_type": "execute_result"
    }
   ],
   "source": [
    "# 2 query按照doc选择term_dict\n",
    "query = {\"id\":9,\"query\":\"RCP如何将VoNR呼叫的Rx会话绑定到对应的N7会话？\",\"document\":\"rcp\"}\n",
    "cur_term_dic = doc2term_dict[query[\"document\"]]\n",
    "new_query = rewrite_query_w_terminology(query[\"query\"], cur_term_dic)\n",
    "new_query"
   ]
  },
  {
   "cell_type": "code",
   "execution_count": 113,
   "metadata": {},
   "outputs": [
    {
     "data": {
      "text/plain": [
       "'RCP | 资源控制平台 ( Resource Control Platform , RCP )'"
      ]
     },
     "execution_count": 113,
     "metadata": {},
     "output_type": "execute_result"
    }
   ],
   "source": [
    "# doc2term_dict[\"rcp\"].get(\"RCP\",\"\")"
   ]
  },
  {
   "cell_type": "markdown",
   "metadata": {},
   "source": [
    "## 3 多个query多个doc"
   ]
  },
  {
   "cell_type": "code",
   "execution_count": 115,
   "metadata": {},
   "outputs": [],
   "source": [
    "# 读取question.json\n",
    "import json\n",
    "from pipeline.qa import read_jsonl, write_jsonl"
   ]
  },
  {
   "cell_type": "code",
   "execution_count": 116,
   "metadata": {},
   "outputs": [],
   "source": [
    "queries = read_jsonl(\"question.jsonl\")"
   ]
  },
  {
   "cell_type": "code",
   "execution_count": 119,
   "metadata": {},
   "outputs": [
    {
     "name": "stderr",
     "output_type": "stream",
     "text": [
      "100%|██████████████████████████████████████████████████████████████████████████████████████████████████████████████████████████| 103/103 [00:00<00:00, 256235.65it/s]\n"
     ]
    }
   ],
   "source": [
    "res = []\n",
    "for query_dic in tqdm(queries):\n",
    "    new_query = rewrite_query_w_terminology(query_dic[\"query\"], doc2term_dict[query_dic[\"document\"]])\n",
    "    query_dic[\"query\"] = new_query\n",
    "    res.append(query_dic)"
   ]
  },
  {
   "cell_type": "code",
   "execution_count": 120,
   "metadata": {},
   "outputs": [],
   "source": [
    "write_jsonl(res, \"question_rewrite.jsonl\")"
   ]
  },
  {
   "cell_type": "code",
   "execution_count": 123,
   "metadata": {},
   "outputs": [
    {
     "name": "stdout",
     "output_type": "stream",
     "text": [
      "{\"id\":1,\"query\":\"PCF与NRF对接时，一般需要配置哪些数据？\",\"document\":\"rcp\"}\n",
      "{\"id\":2,\"query\":\"ZXUN RCP部署成功后，各个虚机个数都是最少个数，是否可以一次性扩容完成？有哪些注意事项？\",\"document\":\"rcp\"}\n",
      "{\"id\":3,\"query\":\"如何排查PCF侧建立专载失败，发起Rx-ASR释放问题？\",\"document\":\"rcp\"}\n",
      "{\"id\":4,\"query\":\"Npcf_SMPolicyControl服务包含哪些操作？\",\"document\":\"rcp\"}\n",
      "{\"id\":5,\"query\":\"什么是裸金属\",\"document\":\"director\"}\n",
      "{\"id\":6,\"query\":\"RCP策略决策包括哪些策略类型？\",\"document\":\"rcp\"}\n",
      "{\"id\":7,\"query\":\"Director中的VDC是什么概念？\",\"document\":\"director\"}\n",
      "{\"id\":8,\"query\":\"RCP在IaaS架构下有哪些GSU虚机？\",\"document\":\"rcp\"}\n",
      "{\"id\":9,\"query\":\"RCP如何将VoNR呼叫的Rx会话绑定到对应的N7会话？\",\"document\":\"rcp\"}\n",
      "{\"id\":10,\"query\":\"Director部署过程中有个网卡固化操作，那是在什么场景下做？\",\"document\":\"director\"}\n"
     ]
    },
    {
     "name": "stderr",
     "output_type": "stream",
     "text": [
      "huggingface/tokenizers: The current process just got forked, after parallelism has already been used. Disabling parallelism to avoid deadlocks...\n",
      "To disable this warning, you can either:\n",
      "\t- Avoid using `tokenizers` before the fork if possible\n",
      "\t- Explicitly set the environment variable TOKENIZERS_PARALLELISM=(true | false)\n"
     ]
    }
   ],
   "source": [
    "!head question.jsonl"
   ]
  },
  {
   "cell_type": "code",
   "execution_count": 121,
   "metadata": {},
   "outputs": [
    {
     "name": "stdout",
     "output_type": "stream",
     "text": [
      "{\"id\": 1, \"query\": \" 分组控制功能 ( Packet Control Function , PCF ) 与 网络仓储功能 ( NF Repository Function , NRF ) 对接时，一般需要配置哪些数据？\", \"document\": \"rcp\"}\n",
      "{\"id\": 2, \"query\": \"ZXUN  资源控制平台 ( Resource Control Platform , RCP ) 部署成功后，各个虚机个数都是最少个数，是否可以一次性扩容完成？有哪些注意事项？\", \"document\": \"rcp\"}\n",
      "{\"id\": 3, \"query\": \"如何排查 分组控制功能 ( Packet Control Function , PCF ) 侧建立专载失败，发起Rx-ASR释放问题？\", \"document\": \"rcp\"}\n",
      "{\"id\": 4, \"query\": \"Npcf_SMPolicyControl服务包含哪些操作？\", \"document\": \"rcp\"}\n",
      "{\"id\": 5, \"query\": \"什么是裸金属\", \"document\": \"director\"}\n",
      "{\"id\": 6, \"query\": \" 资源控制平台 ( Resource Control Platform , RCP ) 策略决策包括哪些策略类型？\", \"document\": \"rcp\"}\n",
      "{\"id\": 7, \"query\": \"Director中的 虚拟数据中心 ( Virtual Data Center , VDC ) 是什么概念？\", \"document\": \"director\"}\n",
      "{\"id\": 8, \"query\": \" 资源控制平台 ( Resource Control Platform , RCP ) 在 基础设施即服务 ( Infrastructure as a Service , IaaS ) 架构下有哪些 通用服务单元 ( General Service Unit , GSU ) 虚机？\", \"document\": \"rcp\"}\n",
      "{\"id\": 9, \"query\": \" 资源控制平台 ( Resource Control Platform , RCP ) 如何将 新空口承载语音 ( Voice over New Radio , VoNR ) 呼叫的Rx会话绑定到对应的N7会话？\", \"document\": \"rcp\"}\n",
      "{\"id\": 10, \"query\": \"Director部署过程中有个网卡固化操作，那是在什么场景下做？\", \"document\": \"director\"}\n"
     ]
    },
    {
     "name": "stderr",
     "output_type": "stream",
     "text": [
      "huggingface/tokenizers: The current process just got forked, after parallelism has already been used. Disabling parallelism to avoid deadlocks...\n",
      "To disable this warning, you can either:\n",
      "\t- Avoid using `tokenizers` before the fork if possible\n",
      "\t- Explicitly set the environment variable TOKENIZERS_PARALLELISM=(true | false)\n"
     ]
    }
   ],
   "source": [
    "!head question_rewrite.jsonl"
   ]
  },
  {
   "cell_type": "code",
   "execution_count": null,
   "metadata": {},
   "outputs": [],
   "source": []
  }
 ],
 "metadata": {
  "kernelspec": {
   "display_name": "Python 3 (ipykernel)",
   "language": "python",
   "name": "python3"
  },
  "language_info": {
   "codemirror_mode": {
    "name": "ipython",
    "version": 3
   },
   "file_extension": ".py",
   "mimetype": "text/x-python",
   "name": "python",
   "nbconvert_exporter": "python",
   "pygments_lexer": "ipython3",
   "version": "3.10.14"
  }
 },
 "nbformat": 4,
 "nbformat_minor": 2
}
